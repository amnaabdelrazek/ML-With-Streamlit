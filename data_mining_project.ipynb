{
 "cells": [
  {
   "cell_type": "code",
   "execution_count": 14,
   "metadata": {
    "id": "nIpP8mYAofkp"
   },
   "outputs": [],
   "source": [
    "import pandas as pd\n",
    "\n",
    "import numpy as np\n",
    "import math"
   ]
  },
  {
   "cell_type": "code",
   "execution_count": 15,
   "metadata": {
    "id": "4qqtg-MDph-Q"
   },
   "outputs": [],
   "source": [
    "df = pd.read_csv('uncleaned_alzheimers_disease_data.csv')\n"
   ]
  },
  {
   "cell_type": "code",
   "execution_count": 16,
   "metadata": {
    "colab": {
     "base_uri": "https://localhost:8080/",
     "height": 412
    },
    "id": "lFzbVcWbptHQ",
    "outputId": "bf7733c0-8e13-4771-d007-e88ccfc42a46"
   },
   "outputs": [
    {
     "data": {
      "text/html": [
       "<div>\n",
       "<style scoped>\n",
       "    .dataframe tbody tr th:only-of-type {\n",
       "        vertical-align: middle;\n",
       "    }\n",
       "\n",
       "    .dataframe tbody tr th {\n",
       "        vertical-align: top;\n",
       "    }\n",
       "\n",
       "    .dataframe thead th {\n",
       "        text-align: right;\n",
       "    }\n",
       "</style>\n",
       "<table border=\"1\" class=\"dataframe\">\n",
       "  <thead>\n",
       "    <tr style=\"text-align: right;\">\n",
       "      <th></th>\n",
       "      <th>PatientID</th>\n",
       "      <th>Age</th>\n",
       "      <th>Gender</th>\n",
       "      <th>Ethnicity</th>\n",
       "      <th>EducationLevel</th>\n",
       "      <th>BMI</th>\n",
       "      <th>Smoking</th>\n",
       "      <th>AlcoholConsumption</th>\n",
       "      <th>PhysicalActivity</th>\n",
       "      <th>DietQuality</th>\n",
       "      <th>...</th>\n",
       "      <th>MemoryComplaints</th>\n",
       "      <th>BehavioralProblems</th>\n",
       "      <th>ADL</th>\n",
       "      <th>Confusion</th>\n",
       "      <th>Disorientation</th>\n",
       "      <th>PersonalityChanges</th>\n",
       "      <th>DifficultyCompletingTasks</th>\n",
       "      <th>Forgetfulness</th>\n",
       "      <th>Diagnosis</th>\n",
       "      <th>DoctorInCharge</th>\n",
       "    </tr>\n",
       "  </thead>\n",
       "  <tbody>\n",
       "    <tr>\n",
       "      <th>0</th>\n",
       "      <td>4751.0</td>\n",
       "      <td>NaN</td>\n",
       "      <td>0.0</td>\n",
       "      <td>0.0</td>\n",
       "      <td>2.0</td>\n",
       "      <td>22.927749</td>\n",
       "      <td>NaN</td>\n",
       "      <td>13.297218</td>\n",
       "      <td>6.327112</td>\n",
       "      <td>1.347214</td>\n",
       "      <td>...</td>\n",
       "      <td>0.0</td>\n",
       "      <td>0.0</td>\n",
       "      <td>1.725883</td>\n",
       "      <td>0.0</td>\n",
       "      <td>0.0</td>\n",
       "      <td>0.0</td>\n",
       "      <td>1.0</td>\n",
       "      <td>0.0</td>\n",
       "      <td>NaN</td>\n",
       "      <td>XXXCONFID</td>\n",
       "    </tr>\n",
       "    <tr>\n",
       "      <th>1</th>\n",
       "      <td>4752.0</td>\n",
       "      <td>89.0</td>\n",
       "      <td>0.0</td>\n",
       "      <td>0.0</td>\n",
       "      <td>0.0</td>\n",
       "      <td>26.827681</td>\n",
       "      <td>0.0</td>\n",
       "      <td>4.542524</td>\n",
       "      <td>7.619885</td>\n",
       "      <td>0.518767</td>\n",
       "      <td>...</td>\n",
       "      <td>0.0</td>\n",
       "      <td>0.0</td>\n",
       "      <td>2.592424</td>\n",
       "      <td>0.0</td>\n",
       "      <td>0.0</td>\n",
       "      <td>0.0</td>\n",
       "      <td>0.0</td>\n",
       "      <td>1.0</td>\n",
       "      <td>0.0</td>\n",
       "      <td>XlXCONFID</td>\n",
       "    </tr>\n",
       "    <tr>\n",
       "      <th>2</th>\n",
       "      <td>4753.0</td>\n",
       "      <td>73.0</td>\n",
       "      <td>0.0</td>\n",
       "      <td>3.0</td>\n",
       "      <td>1.0</td>\n",
       "      <td>17.795882</td>\n",
       "      <td>0.0</td>\n",
       "      <td>19.555085</td>\n",
       "      <td>NaN</td>\n",
       "      <td>1.826335</td>\n",
       "      <td>...</td>\n",
       "      <td>0.0</td>\n",
       "      <td>0.0</td>\n",
       "      <td>7.119548</td>\n",
       "      <td>NaN</td>\n",
       "      <td>1.0</td>\n",
       "      <td>0.0</td>\n",
       "      <td>1.0</td>\n",
       "      <td>0.0</td>\n",
       "      <td>0.0</td>\n",
       "      <td>xxxconfid</td>\n",
       "    </tr>\n",
       "    <tr>\n",
       "      <th>3</th>\n",
       "      <td>4754.0</td>\n",
       "      <td>NaN</td>\n",
       "      <td>1.0</td>\n",
       "      <td>NaN</td>\n",
       "      <td>1.0</td>\n",
       "      <td>33.800817</td>\n",
       "      <td>1.0</td>\n",
       "      <td>12.209266</td>\n",
       "      <td>8.428001</td>\n",
       "      <td>7.435604</td>\n",
       "      <td>...</td>\n",
       "      <td>0.0</td>\n",
       "      <td>NaN</td>\n",
       "      <td>6.481226</td>\n",
       "      <td>0.0</td>\n",
       "      <td>NaN</td>\n",
       "      <td>NaN</td>\n",
       "      <td>0.0</td>\n",
       "      <td>0.0</td>\n",
       "      <td>NaN</td>\n",
       "      <td>xxxconfid</td>\n",
       "    </tr>\n",
       "    <tr>\n",
       "      <th>4</th>\n",
       "      <td>4755.0</td>\n",
       "      <td>89.0</td>\n",
       "      <td>0.0</td>\n",
       "      <td>0.0</td>\n",
       "      <td>0.0</td>\n",
       "      <td>20.716974</td>\n",
       "      <td>NaN</td>\n",
       "      <td>18.454356</td>\n",
       "      <td>6.310461</td>\n",
       "      <td>0.795498</td>\n",
       "      <td>...</td>\n",
       "      <td>0.0</td>\n",
       "      <td>0.0</td>\n",
       "      <td>0.014691</td>\n",
       "      <td>0.0</td>\n",
       "      <td>0.0</td>\n",
       "      <td>1.0</td>\n",
       "      <td>1.0</td>\n",
       "      <td>0.0</td>\n",
       "      <td>0.0</td>\n",
       "      <td>XXXCONFID</td>\n",
       "    </tr>\n",
       "    <tr>\n",
       "      <th>5</th>\n",
       "      <td>4756.0</td>\n",
       "      <td>86.0</td>\n",
       "      <td>NaN</td>\n",
       "      <td>1.0</td>\n",
       "      <td>1.0</td>\n",
       "      <td>30.626886</td>\n",
       "      <td>NaN</td>\n",
       "      <td>NaN</td>\n",
       "      <td>NaN</td>\n",
       "      <td>1.584922</td>\n",
       "      <td>...</td>\n",
       "      <td>0.0</td>\n",
       "      <td>0.0</td>\n",
       "      <td>9.015686</td>\n",
       "      <td>1.0</td>\n",
       "      <td>0.0</td>\n",
       "      <td>0.0</td>\n",
       "      <td>0.0</td>\n",
       "      <td>0.0</td>\n",
       "      <td>0.0</td>\n",
       "      <td>XXXCONFID</td>\n",
       "    </tr>\n",
       "    <tr>\n",
       "      <th>6</th>\n",
       "      <td>4757.0</td>\n",
       "      <td>68.0</td>\n",
       "      <td>0.0</td>\n",
       "      <td>3.0</td>\n",
       "      <td>2.0</td>\n",
       "      <td>38.387622</td>\n",
       "      <td>1.0</td>\n",
       "      <td>0.646047</td>\n",
       "      <td>9.257695</td>\n",
       "      <td>NaN</td>\n",
       "      <td>...</td>\n",
       "      <td>0.0</td>\n",
       "      <td>0.0</td>\n",
       "      <td>9.236328</td>\n",
       "      <td>0.0</td>\n",
       "      <td>0.0</td>\n",
       "      <td>0.0</td>\n",
       "      <td>0.0</td>\n",
       "      <td>1.0</td>\n",
       "      <td>0.0</td>\n",
       "      <td>xxxconfid</td>\n",
       "    </tr>\n",
       "    <tr>\n",
       "      <th>7</th>\n",
       "      <td>4758.0</td>\n",
       "      <td>75.0</td>\n",
       "      <td>0.0</td>\n",
       "      <td>0.0</td>\n",
       "      <td>1.0</td>\n",
       "      <td>18.776009</td>\n",
       "      <td>0.0</td>\n",
       "      <td>13.723826</td>\n",
       "      <td>4.649451</td>\n",
       "      <td>8.341903</td>\n",
       "      <td>...</td>\n",
       "      <td>0.0</td>\n",
       "      <td>0.0</td>\n",
       "      <td>4.517248</td>\n",
       "      <td>1.0</td>\n",
       "      <td>0.0</td>\n",
       "      <td>0.0</td>\n",
       "      <td>0.0</td>\n",
       "      <td>1.0</td>\n",
       "      <td>1.0</td>\n",
       "      <td>xxxconfid</td>\n",
       "    </tr>\n",
       "    <tr>\n",
       "      <th>8</th>\n",
       "      <td>4759.0</td>\n",
       "      <td>72.0</td>\n",
       "      <td>1.0</td>\n",
       "      <td>1.0</td>\n",
       "      <td>0.0</td>\n",
       "      <td>27.833188</td>\n",
       "      <td>0.0</td>\n",
       "      <td>12.167848</td>\n",
       "      <td>NaN</td>\n",
       "      <td>6.736882</td>\n",
       "      <td>...</td>\n",
       "      <td>0.0</td>\n",
       "      <td>1.0</td>\n",
       "      <td>0.756232</td>\n",
       "      <td>NaN</td>\n",
       "      <td>0.0</td>\n",
       "      <td>1.0</td>\n",
       "      <td>NaN</td>\n",
       "      <td>0.0</td>\n",
       "      <td>0.0</td>\n",
       "      <td>XXXCtNFID</td>\n",
       "    </tr>\n",
       "    <tr>\n",
       "      <th>9</th>\n",
       "      <td>4760.0</td>\n",
       "      <td>87.0</td>\n",
       "      <td>0.0</td>\n",
       "      <td>0.0</td>\n",
       "      <td>NaN</td>\n",
       "      <td>35.456302</td>\n",
       "      <td>1.0</td>\n",
       "      <td>16.028688</td>\n",
       "      <td>NaN</td>\n",
       "      <td>8.086019</td>\n",
       "      <td>...</td>\n",
       "      <td>0.0</td>\n",
       "      <td>1.0</td>\n",
       "      <td>4.554394</td>\n",
       "      <td>0.0</td>\n",
       "      <td>0.0</td>\n",
       "      <td>0.0</td>\n",
       "      <td>0.0</td>\n",
       "      <td>0.0</td>\n",
       "      <td>0.0</td>\n",
       "      <td>XXXCONFID</td>\n",
       "    </tr>\n",
       "  </tbody>\n",
       "</table>\n",
       "<p>10 rows × 35 columns</p>\n",
       "</div>"
      ],
      "text/plain": [
       "   PatientID   Age  Gender  Ethnicity  EducationLevel        BMI  Smoking  \\\n",
       "0     4751.0   NaN     0.0        0.0             2.0  22.927749      NaN   \n",
       "1     4752.0  89.0     0.0        0.0             0.0  26.827681      0.0   \n",
       "2     4753.0  73.0     0.0        3.0             1.0  17.795882      0.0   \n",
       "3     4754.0   NaN     1.0        NaN             1.0  33.800817      1.0   \n",
       "4     4755.0  89.0     0.0        0.0             0.0  20.716974      NaN   \n",
       "5     4756.0  86.0     NaN        1.0             1.0  30.626886      NaN   \n",
       "6     4757.0  68.0     0.0        3.0             2.0  38.387622      1.0   \n",
       "7     4758.0  75.0     0.0        0.0             1.0  18.776009      0.0   \n",
       "8     4759.0  72.0     1.0        1.0             0.0  27.833188      0.0   \n",
       "9     4760.0  87.0     0.0        0.0             NaN  35.456302      1.0   \n",
       "\n",
       "   AlcoholConsumption  PhysicalActivity  DietQuality  ...  MemoryComplaints  \\\n",
       "0           13.297218          6.327112     1.347214  ...               0.0   \n",
       "1            4.542524          7.619885     0.518767  ...               0.0   \n",
       "2           19.555085               NaN     1.826335  ...               0.0   \n",
       "3           12.209266          8.428001     7.435604  ...               0.0   \n",
       "4           18.454356          6.310461     0.795498  ...               0.0   \n",
       "5                 NaN               NaN     1.584922  ...               0.0   \n",
       "6            0.646047          9.257695          NaN  ...               0.0   \n",
       "7           13.723826          4.649451     8.341903  ...               0.0   \n",
       "8           12.167848               NaN     6.736882  ...               0.0   \n",
       "9           16.028688               NaN     8.086019  ...               0.0   \n",
       "\n",
       "   BehavioralProblems       ADL  Confusion  Disorientation  \\\n",
       "0                 0.0  1.725883        0.0             0.0   \n",
       "1                 0.0  2.592424        0.0             0.0   \n",
       "2                 0.0  7.119548        NaN             1.0   \n",
       "3                 NaN  6.481226        0.0             NaN   \n",
       "4                 0.0  0.014691        0.0             0.0   \n",
       "5                 0.0  9.015686        1.0             0.0   \n",
       "6                 0.0  9.236328        0.0             0.0   \n",
       "7                 0.0  4.517248        1.0             0.0   \n",
       "8                 1.0  0.756232        NaN             0.0   \n",
       "9                 1.0  4.554394        0.0             0.0   \n",
       "\n",
       "   PersonalityChanges  DifficultyCompletingTasks  Forgetfulness  Diagnosis  \\\n",
       "0                 0.0                        1.0            0.0        NaN   \n",
       "1                 0.0                        0.0            1.0        0.0   \n",
       "2                 0.0                        1.0            0.0        0.0   \n",
       "3                 NaN                        0.0            0.0        NaN   \n",
       "4                 1.0                        1.0            0.0        0.0   \n",
       "5                 0.0                        0.0            0.0        0.0   \n",
       "6                 0.0                        0.0            1.0        0.0   \n",
       "7                 0.0                        0.0            1.0        1.0   \n",
       "8                 1.0                        NaN            0.0        0.0   \n",
       "9                 0.0                        0.0            0.0        0.0   \n",
       "\n",
       "   DoctorInCharge  \n",
       "0       XXXCONFID  \n",
       "1       XlXCONFID  \n",
       "2       xxxconfid  \n",
       "3       xxxconfid  \n",
       "4       XXXCONFID  \n",
       "5       XXXCONFID  \n",
       "6       xxxconfid  \n",
       "7       xxxconfid  \n",
       "8       XXXCtNFID  \n",
       "9       XXXCONFID  \n",
       "\n",
       "[10 rows x 35 columns]"
      ]
     },
     "execution_count": 16,
     "metadata": {},
     "output_type": "execute_result"
    }
   ],
   "source": [
    "df.head(10)"
   ]
  },
  {
   "cell_type": "code",
   "execution_count": 17,
   "metadata": {
    "colab": {
     "base_uri": "https://localhost:8080/"
    },
    "id": "5eqlcnTHpv5J",
    "outputId": "5f94b6d8-b223-42e4-ad14-006d5b903666"
   },
   "outputs": [
    {
     "name": "stdout",
     "output_type": "stream",
     "text": [
      "<class 'pandas.core.frame.DataFrame'>\n",
      "RangeIndex: 2256 entries, 0 to 2255\n",
      "Data columns (total 35 columns):\n",
      " #   Column                     Non-Null Count  Dtype  \n",
      "---  ------                     --------------  -----  \n",
      " 0   PatientID                  2031 non-null   float64\n",
      " 1   Age                        2030 non-null   float64\n",
      " 2   Gender                     2031 non-null   float64\n",
      " 3   Ethnicity                  2030 non-null   float64\n",
      " 4   EducationLevel             2028 non-null   float64\n",
      " 5   BMI                        2030 non-null   float64\n",
      " 6   Smoking                    2033 non-null   float64\n",
      " 7   AlcoholConsumption         2033 non-null   float64\n",
      " 8   PhysicalActivity           2032 non-null   float64\n",
      " 9   DietQuality                2028 non-null   float64\n",
      " 10  SleepQuality               2029 non-null   float64\n",
      " 11  FamilyHistoryAlzheimers    2032 non-null   float64\n",
      " 12  CardiovascularDisease      2030 non-null   float64\n",
      " 13  Diabetes                   2032 non-null   float64\n",
      " 14  Depression                 2031 non-null   float64\n",
      " 15  HeadInjury                 2031 non-null   float64\n",
      " 16  Hypertension               2032 non-null   float64\n",
      " 17  SystolicBP                 2028 non-null   float64\n",
      " 18  DiastolicBP                2033 non-null   float64\n",
      " 19  CholesterolTotal           2028 non-null   float64\n",
      " 20  CholesterolLDL             2033 non-null   float64\n",
      " 21  CholesterolHDL             2029 non-null   float64\n",
      " 22  CholesterolTriglycerides   2030 non-null   float64\n",
      " 23  MMSE                       2034 non-null   float64\n",
      " 24  FunctionalAssessment       2029 non-null   float64\n",
      " 25  MemoryComplaints           2031 non-null   float64\n",
      " 26  BehavioralProblems         2029 non-null   float64\n",
      " 27  ADL                        2032 non-null   float64\n",
      " 28  Confusion                  2029 non-null   float64\n",
      " 29  Disorientation             2030 non-null   float64\n",
      " 30  PersonalityChanges         2035 non-null   float64\n",
      " 31  DifficultyCompletingTasks  2027 non-null   float64\n",
      " 32  Forgetfulness              2031 non-null   float64\n",
      " 33  Diagnosis                  2029 non-null   float64\n",
      " 34  DoctorInCharge             2256 non-null   object \n",
      "dtypes: float64(34), object(1)\n",
      "memory usage: 617.0+ KB\n"
     ]
    }
   ],
   "source": [
    "df.info()"
   ]
  },
  {
   "cell_type": "code",
   "execution_count": 18,
   "metadata": {
    "colab": {
     "base_uri": "https://localhost:8080/"
    },
    "id": "N9XZ-1W_p7gJ",
    "outputId": "4c07f275-1cfd-4883-a6f2-dea641fa5377"
   },
   "outputs": [
    {
     "data": {
      "text/plain": [
       "array([ 0.,  1., nan])"
      ]
     },
     "execution_count": 18,
     "metadata": {},
     "output_type": "execute_result"
    }
   ],
   "source": [
    " df['MemoryComplaints'].unique()"
   ]
  },
  {
   "cell_type": "code",
   "execution_count": 19,
   "metadata": {
    "colab": {
     "base_uri": "https://localhost:8080/"
    },
    "id": "L7JZgEhctZrH",
    "outputId": "4f1db1f5-4380-49bc-c45c-0a1dcdccb322"
   },
   "outputs": [
    {
     "data": {
      "text/plain": [
       "array(['XXXCONFID', 'XlXCONFID', 'xxxconfid', 'XXXCtNFID', 'xxxlonfid',\n",
       "       'XXXCOtFID', 'XXXChNFID', 'XXXCONFeD', 'XXXCONFuD', 'xxxconlid',\n",
       "       'xxxconyid', 'XXXCOsFID', 'hXXCONFID', 'XXXCfNFID', 'xxxcondid',\n",
       "       'zxxconfid', 'xxxconfdd', 'xxxconfjd', 'xkxconfid', 'uxxconfid',\n",
       "       'xxxyonfid', 'XXpCONFID', 'XXXyONFID', 'xxxconzid', 'xxdconfid',\n",
       "       'XXXrONFID', 'XXXiONFID', 'XXXCONFvD', 'XXXCONoID', 'xxxconrid',\n",
       "       'xpxconfid', 'xxxconpid', 'xxxclnfid', 'XXXCqNFID', 'XiXCONFID',\n",
       "       'XXeCONFID', 'xxxcoffid', 'xxxconfio', 'xxxcynfid', 'uXXCONFID',\n",
       "       'xxxconfxd', 'XXtCONFID', 'xxxconjid', 'XXXCzNFID', 'XXXCONFIp',\n",
       "       'XXXCnNFID', 'xxxcoifid', 'XXXpONFID', 'xxxwonfid', 'xxxcoyfid',\n",
       "       'XXXCOfFID', 'rXXCONFID', 'xzxconfid', 'XXoCONFID', 'xxcconfid',\n",
       "       'xxxconfad', 'xxyconfid', 'xoxconfid', 'xxxcoofid', 'XXXCOmFID',\n",
       "       'XXXCONFId', 'XXXCONFbD', 'xxxconoid', 'XXXCONFyD', 'xxxhonfid',\n",
       "       'XXXCiNFID', 'xxxconfic', 'XXXCbNFID', 'XhXCONFID', 'xxxconfin',\n",
       "       'xxxcontid', 'XXXhONFID', 'xxjconfid', 'wXXCONFID', 'lXXCONFID',\n",
       "       'xgxconfid', 'XgXCONFID', 'xixconfid', 'XoXCONFID', 'xxxconfyd',\n",
       "       'xxxcsnfid', 'xxxjonfid', 'XXXCONFIu', 'xxxcowfid', 'zXXCONFID',\n",
       "       'xxxconfiw', 'XaXCONFID', 'XXXCsNFID', 'XXXvONFID', 'axxconfid',\n",
       "       'XXXfONFID', 'bxxconfid', 'XXXCrNFID', 'exxconfid', 'XXXCONFIo',\n",
       "       'XXXCONtID', 'XXXCaNFID', 'XXXCdNFID', 'xxxconfld', 'XXjCONFID',\n",
       "       'xxxgonfid', 'xxxconfmd', 'XXXCgNFID', 'XXXjONFID', 'XXkCONFID',\n",
       "       'xxxconaid', 'XXXCONFIj', 'bXXCONFID', 'xxxconfod', 'XXXCOrFID',\n",
       "       'xhxconfid', 'XXXCONFwD', 'XyXCONFID', 'XXiCONFID', 'xxxconxid',\n",
       "       'xmxconfid', 'xxxconiid', 'xxxconfud', 'XXXCwNFID', 'XfXCONFID',\n",
       "       'XXXCONFiD', 'iXXCONFID', 'XXXCyNFID', 'XXgCONFID', 'xxxconwid',\n",
       "       'xxxcongid', 'xxxconbid', 'XXXCONFaD', 'cxxconfid', 'xxxconfii',\n",
       "       'xxxconfij', 'XbXCONFID', 'XXbCONFID', 'xyxconfid', 'XXXCONjID',\n",
       "       'xxxconfvd', 'XXXCONFIt', 'gxxconfid', 'XXXCONFgD', 'xxxvonfid',\n",
       "       'XXXCOvFID', 'xxpconfid', 'qXXCONFID', 'XkXCONFID', 'XjXCONFID',\n",
       "       'XXXCONFIl', 'XzXCONFID', 'XXXCONmID', 'XXXCONFIr', 'XXnCONFID',\n",
       "       'xxxcorfid', 'XXXCONFIb', 'xxxconhid', 'XXXkONFID', 'XXXCONFmD',\n",
       "       'kxxconfid', 'xxxconfil', 'xxxuonfid', 'xxuconfid', 'XXXCOxFID',\n",
       "       'mxxconfid', 'xxxcdnfid', 'kXXCONFID', 'XXXCONxID', 'xxxctnfid',\n",
       "       'nXXCONFID', 'XXXCuNFID', 'xxxconfih', 'xxxcinfid', 'XXlCONFID',\n",
       "       'XXXCONFhD'], dtype=object)"
      ]
     },
     "execution_count": 19,
     "metadata": {},
     "output_type": "execute_result"
    }
   ],
   "source": [
    "df['DoctorInCharge'].unique()"
   ]
  },
  {
   "cell_type": "code",
   "execution_count": 20,
   "metadata": {
    "colab": {
     "base_uri": "https://localhost:8080/",
     "height": 349
    },
    "id": "SeELiCEns9re",
    "outputId": "883680de-bf11-4d2f-8b41-2aea66a95fca"
   },
   "outputs": [
    {
     "data": {
      "text/html": [
       "<div>\n",
       "<style scoped>\n",
       "    .dataframe tbody tr th:only-of-type {\n",
       "        vertical-align: middle;\n",
       "    }\n",
       "\n",
       "    .dataframe tbody tr th {\n",
       "        vertical-align: top;\n",
       "    }\n",
       "\n",
       "    .dataframe thead th {\n",
       "        text-align: right;\n",
       "    }\n",
       "</style>\n",
       "<table border=\"1\" class=\"dataframe\">\n",
       "  <thead>\n",
       "    <tr style=\"text-align: right;\">\n",
       "      <th></th>\n",
       "      <th>PatientID</th>\n",
       "      <th>Age</th>\n",
       "      <th>Gender</th>\n",
       "      <th>Ethnicity</th>\n",
       "      <th>EducationLevel</th>\n",
       "      <th>BMI</th>\n",
       "      <th>Smoking</th>\n",
       "      <th>AlcoholConsumption</th>\n",
       "      <th>PhysicalActivity</th>\n",
       "      <th>DietQuality</th>\n",
       "      <th>...</th>\n",
       "      <th>FunctionalAssessment</th>\n",
       "      <th>MemoryComplaints</th>\n",
       "      <th>BehavioralProblems</th>\n",
       "      <th>ADL</th>\n",
       "      <th>Confusion</th>\n",
       "      <th>Disorientation</th>\n",
       "      <th>PersonalityChanges</th>\n",
       "      <th>DifficultyCompletingTasks</th>\n",
       "      <th>Forgetfulness</th>\n",
       "      <th>Diagnosis</th>\n",
       "    </tr>\n",
       "  </thead>\n",
       "  <tbody>\n",
       "    <tr>\n",
       "      <th>count</th>\n",
       "      <td>2031.000000</td>\n",
       "      <td>2030.000000</td>\n",
       "      <td>2031.000000</td>\n",
       "      <td>2030.000000</td>\n",
       "      <td>2028.000000</td>\n",
       "      <td>2030.000000</td>\n",
       "      <td>2033.000000</td>\n",
       "      <td>2033.000000</td>\n",
       "      <td>2032.000000</td>\n",
       "      <td>2028.000000</td>\n",
       "      <td>...</td>\n",
       "      <td>2029.000000</td>\n",
       "      <td>2031.000000</td>\n",
       "      <td>2029.000000</td>\n",
       "      <td>2032.000000</td>\n",
       "      <td>2029.000000</td>\n",
       "      <td>2030.000000</td>\n",
       "      <td>2035.00000</td>\n",
       "      <td>2027.000000</td>\n",
       "      <td>2031.00000</td>\n",
       "      <td>2029.000000</td>\n",
       "    </tr>\n",
       "    <tr>\n",
       "      <th>mean</th>\n",
       "      <td>5818.441162</td>\n",
       "      <td>74.865025</td>\n",
       "      <td>0.503693</td>\n",
       "      <td>0.690148</td>\n",
       "      <td>1.283531</td>\n",
       "      <td>27.653989</td>\n",
       "      <td>0.291687</td>\n",
       "      <td>10.066199</td>\n",
       "      <td>4.900077</td>\n",
       "      <td>5.002879</td>\n",
       "      <td>...</td>\n",
       "      <td>5.078675</td>\n",
       "      <td>0.204333</td>\n",
       "      <td>0.159192</td>\n",
       "      <td>4.974044</td>\n",
       "      <td>0.207491</td>\n",
       "      <td>0.161576</td>\n",
       "      <td>0.15086</td>\n",
       "      <td>0.158855</td>\n",
       "      <td>0.29936</td>\n",
       "      <td>0.353869</td>\n",
       "    </tr>\n",
       "    <tr>\n",
       "      <th>std</th>\n",
       "      <td>622.409554</td>\n",
       "      <td>9.033834</td>\n",
       "      <td>0.500109</td>\n",
       "      <td>0.986879</td>\n",
       "      <td>0.897283</td>\n",
       "      <td>7.265245</td>\n",
       "      <td>0.454651</td>\n",
       "      <td>5.746963</td>\n",
       "      <td>2.855033</td>\n",
       "      <td>2.891122</td>\n",
       "      <td>...</td>\n",
       "      <td>2.909456</td>\n",
       "      <td>0.403313</td>\n",
       "      <td>0.365945</td>\n",
       "      <td>2.943157</td>\n",
       "      <td>0.405610</td>\n",
       "      <td>0.368152</td>\n",
       "      <td>0.35800</td>\n",
       "      <td>0.365631</td>\n",
       "      <td>0.45809</td>\n",
       "      <td>0.478287</td>\n",
       "    </tr>\n",
       "    <tr>\n",
       "      <th>min</th>\n",
       "      <td>4751.000000</td>\n",
       "      <td>60.000000</td>\n",
       "      <td>0.000000</td>\n",
       "      <td>0.000000</td>\n",
       "      <td>0.000000</td>\n",
       "      <td>15.008851</td>\n",
       "      <td>0.000000</td>\n",
       "      <td>0.002003</td>\n",
       "      <td>0.003616</td>\n",
       "      <td>0.009385</td>\n",
       "      <td>...</td>\n",
       "      <td>0.000460</td>\n",
       "      <td>0.000000</td>\n",
       "      <td>0.000000</td>\n",
       "      <td>0.001288</td>\n",
       "      <td>0.000000</td>\n",
       "      <td>0.000000</td>\n",
       "      <td>0.00000</td>\n",
       "      <td>0.000000</td>\n",
       "      <td>0.00000</td>\n",
       "      <td>0.000000</td>\n",
       "    </tr>\n",
       "    <tr>\n",
       "      <th>25%</th>\n",
       "      <td>5272.000000</td>\n",
       "      <td>67.000000</td>\n",
       "      <td>0.000000</td>\n",
       "      <td>0.000000</td>\n",
       "      <td>1.000000</td>\n",
       "      <td>21.474565</td>\n",
       "      <td>0.000000</td>\n",
       "      <td>5.209742</td>\n",
       "      <td>2.550843</td>\n",
       "      <td>2.508126</td>\n",
       "      <td>...</td>\n",
       "      <td>2.546713</td>\n",
       "      <td>0.000000</td>\n",
       "      <td>0.000000</td>\n",
       "      <td>2.352047</td>\n",
       "      <td>0.000000</td>\n",
       "      <td>0.000000</td>\n",
       "      <td>0.00000</td>\n",
       "      <td>0.000000</td>\n",
       "      <td>0.00000</td>\n",
       "      <td>0.000000</td>\n",
       "    </tr>\n",
       "    <tr>\n",
       "      <th>50%</th>\n",
       "      <td>5823.000000</td>\n",
       "      <td>75.000000</td>\n",
       "      <td>1.000000</td>\n",
       "      <td>0.000000</td>\n",
       "      <td>1.000000</td>\n",
       "      <td>27.879803</td>\n",
       "      <td>0.000000</td>\n",
       "      <td>9.934412</td>\n",
       "      <td>4.711861</td>\n",
       "      <td>5.110049</td>\n",
       "      <td>...</td>\n",
       "      <td>5.106842</td>\n",
       "      <td>0.000000</td>\n",
       "      <td>0.000000</td>\n",
       "      <td>5.034117</td>\n",
       "      <td>0.000000</td>\n",
       "      <td>0.000000</td>\n",
       "      <td>0.00000</td>\n",
       "      <td>0.000000</td>\n",
       "      <td>0.00000</td>\n",
       "      <td>0.000000</td>\n",
       "    </tr>\n",
       "    <tr>\n",
       "      <th>75%</th>\n",
       "      <td>6362.500000</td>\n",
       "      <td>83.000000</td>\n",
       "      <td>1.000000</td>\n",
       "      <td>1.000000</td>\n",
       "      <td>2.000000</td>\n",
       "      <td>33.994015</td>\n",
       "      <td>1.000000</td>\n",
       "      <td>15.213739</td>\n",
       "      <td>7.391129</td>\n",
       "      <td>7.524606</td>\n",
       "      <td>...</td>\n",
       "      <td>7.561959</td>\n",
       "      <td>0.000000</td>\n",
       "      <td>0.000000</td>\n",
       "      <td>7.559164</td>\n",
       "      <td>0.000000</td>\n",
       "      <td>0.000000</td>\n",
       "      <td>0.00000</td>\n",
       "      <td>0.000000</td>\n",
       "      <td>1.00000</td>\n",
       "      <td>1.000000</td>\n",
       "    </tr>\n",
       "    <tr>\n",
       "      <th>max</th>\n",
       "      <td>6899.000000</td>\n",
       "      <td>90.000000</td>\n",
       "      <td>1.000000</td>\n",
       "      <td>3.000000</td>\n",
       "      <td>3.000000</td>\n",
       "      <td>39.992767</td>\n",
       "      <td>1.000000</td>\n",
       "      <td>19.988291</td>\n",
       "      <td>9.987429</td>\n",
       "      <td>9.998346</td>\n",
       "      <td>...</td>\n",
       "      <td>9.996467</td>\n",
       "      <td>1.000000</td>\n",
       "      <td>1.000000</td>\n",
       "      <td>9.999747</td>\n",
       "      <td>1.000000</td>\n",
       "      <td>1.000000</td>\n",
       "      <td>1.00000</td>\n",
       "      <td>1.000000</td>\n",
       "      <td>1.00000</td>\n",
       "      <td>1.000000</td>\n",
       "    </tr>\n",
       "  </tbody>\n",
       "</table>\n",
       "<p>8 rows × 34 columns</p>\n",
       "</div>"
      ],
      "text/plain": [
       "         PatientID          Age       Gender    Ethnicity  EducationLevel  \\\n",
       "count  2031.000000  2030.000000  2031.000000  2030.000000     2028.000000   \n",
       "mean   5818.441162    74.865025     0.503693     0.690148        1.283531   \n",
       "std     622.409554     9.033834     0.500109     0.986879        0.897283   \n",
       "min    4751.000000    60.000000     0.000000     0.000000        0.000000   \n",
       "25%    5272.000000    67.000000     0.000000     0.000000        1.000000   \n",
       "50%    5823.000000    75.000000     1.000000     0.000000        1.000000   \n",
       "75%    6362.500000    83.000000     1.000000     1.000000        2.000000   \n",
       "max    6899.000000    90.000000     1.000000     3.000000        3.000000   \n",
       "\n",
       "               BMI      Smoking  AlcoholConsumption  PhysicalActivity  \\\n",
       "count  2030.000000  2033.000000         2033.000000       2032.000000   \n",
       "mean     27.653989     0.291687           10.066199          4.900077   \n",
       "std       7.265245     0.454651            5.746963          2.855033   \n",
       "min      15.008851     0.000000            0.002003          0.003616   \n",
       "25%      21.474565     0.000000            5.209742          2.550843   \n",
       "50%      27.879803     0.000000            9.934412          4.711861   \n",
       "75%      33.994015     1.000000           15.213739          7.391129   \n",
       "max      39.992767     1.000000           19.988291          9.987429   \n",
       "\n",
       "       DietQuality  ...  FunctionalAssessment  MemoryComplaints  \\\n",
       "count  2028.000000  ...           2029.000000       2031.000000   \n",
       "mean      5.002879  ...              5.078675          0.204333   \n",
       "std       2.891122  ...              2.909456          0.403313   \n",
       "min       0.009385  ...              0.000460          0.000000   \n",
       "25%       2.508126  ...              2.546713          0.000000   \n",
       "50%       5.110049  ...              5.106842          0.000000   \n",
       "75%       7.524606  ...              7.561959          0.000000   \n",
       "max       9.998346  ...              9.996467          1.000000   \n",
       "\n",
       "       BehavioralProblems          ADL    Confusion  Disorientation  \\\n",
       "count         2029.000000  2032.000000  2029.000000     2030.000000   \n",
       "mean             0.159192     4.974044     0.207491        0.161576   \n",
       "std              0.365945     2.943157     0.405610        0.368152   \n",
       "min              0.000000     0.001288     0.000000        0.000000   \n",
       "25%              0.000000     2.352047     0.000000        0.000000   \n",
       "50%              0.000000     5.034117     0.000000        0.000000   \n",
       "75%              0.000000     7.559164     0.000000        0.000000   \n",
       "max              1.000000     9.999747     1.000000        1.000000   \n",
       "\n",
       "       PersonalityChanges  DifficultyCompletingTasks  Forgetfulness  \\\n",
       "count          2035.00000                2027.000000     2031.00000   \n",
       "mean              0.15086                   0.158855        0.29936   \n",
       "std               0.35800                   0.365631        0.45809   \n",
       "min               0.00000                   0.000000        0.00000   \n",
       "25%               0.00000                   0.000000        0.00000   \n",
       "50%               0.00000                   0.000000        0.00000   \n",
       "75%               0.00000                   0.000000        1.00000   \n",
       "max               1.00000                   1.000000        1.00000   \n",
       "\n",
       "         Diagnosis  \n",
       "count  2029.000000  \n",
       "mean      0.353869  \n",
       "std       0.478287  \n",
       "min       0.000000  \n",
       "25%       0.000000  \n",
       "50%       0.000000  \n",
       "75%       1.000000  \n",
       "max       1.000000  \n",
       "\n",
       "[8 rows x 34 columns]"
      ]
     },
     "execution_count": 20,
     "metadata": {},
     "output_type": "execute_result"
    }
   ],
   "source": [
    "df.describe()"
   ]
  },
  {
   "cell_type": "code",
   "execution_count": 21,
   "metadata": {
    "id": "2OtA6V-qtCvF"
   },
   "outputs": [],
   "source": [
    "df.drop('PatientID', axis=1, inplace=True)"
   ]
  },
  {
   "cell_type": "code",
   "execution_count": 22,
   "metadata": {
    "colab": {
     "base_uri": "https://localhost:8080/"
    },
    "id": "aiqBBjktt8je",
    "outputId": "a1622e9f-9f47-48bc-ffb0-27ae8b3aece3"
   },
   "outputs": [
    {
     "name": "stdout",
     "output_type": "stream",
     "text": [
      "<class 'pandas.core.frame.DataFrame'>\n",
      "RangeIndex: 2256 entries, 0 to 2255\n",
      "Data columns (total 34 columns):\n",
      " #   Column                     Non-Null Count  Dtype  \n",
      "---  ------                     --------------  -----  \n",
      " 0   Age                        2030 non-null   float64\n",
      " 1   Gender                     2031 non-null   float64\n",
      " 2   Ethnicity                  2030 non-null   float64\n",
      " 3   EducationLevel             2028 non-null   float64\n",
      " 4   BMI                        2030 non-null   float64\n",
      " 5   Smoking                    2033 non-null   float64\n",
      " 6   AlcoholConsumption         2033 non-null   float64\n",
      " 7   PhysicalActivity           2032 non-null   float64\n",
      " 8   DietQuality                2028 non-null   float64\n",
      " 9   SleepQuality               2029 non-null   float64\n",
      " 10  FamilyHistoryAlzheimers    2032 non-null   float64\n",
      " 11  CardiovascularDisease      2030 non-null   float64\n",
      " 12  Diabetes                   2032 non-null   float64\n",
      " 13  Depression                 2031 non-null   float64\n",
      " 14  HeadInjury                 2031 non-null   float64\n",
      " 15  Hypertension               2032 non-null   float64\n",
      " 16  SystolicBP                 2028 non-null   float64\n",
      " 17  DiastolicBP                2033 non-null   float64\n",
      " 18  CholesterolTotal           2028 non-null   float64\n",
      " 19  CholesterolLDL             2033 non-null   float64\n",
      " 20  CholesterolHDL             2029 non-null   float64\n",
      " 21  CholesterolTriglycerides   2030 non-null   float64\n",
      " 22  MMSE                       2034 non-null   float64\n",
      " 23  FunctionalAssessment       2029 non-null   float64\n",
      " 24  MemoryComplaints           2031 non-null   float64\n",
      " 25  BehavioralProblems         2029 non-null   float64\n",
      " 26  ADL                        2032 non-null   float64\n",
      " 27  Confusion                  2029 non-null   float64\n",
      " 28  Disorientation             2030 non-null   float64\n",
      " 29  PersonalityChanges         2035 non-null   float64\n",
      " 30  DifficultyCompletingTasks  2027 non-null   float64\n",
      " 31  Forgetfulness              2031 non-null   float64\n",
      " 32  Diagnosis                  2029 non-null   float64\n",
      " 33  DoctorInCharge             2256 non-null   object \n",
      "dtypes: float64(33), object(1)\n",
      "memory usage: 599.4+ KB\n"
     ]
    }
   ],
   "source": [
    "df.info()"
   ]
  },
  {
   "cell_type": "code",
   "execution_count": 23,
   "metadata": {
    "colab": {
     "base_uri": "https://localhost:8080/",
     "height": 1000
    },
    "id": "BOhnAJcLuPQj",
    "outputId": "2e46abdb-3a47-4433-e6a9-730cfe8c6d2b"
   },
   "outputs": [
    {
     "data": {
      "text/plain": [
       "Age                          226\n",
       "Gender                       225\n",
       "Ethnicity                    226\n",
       "EducationLevel               228\n",
       "BMI                          226\n",
       "Smoking                      223\n",
       "AlcoholConsumption           223\n",
       "PhysicalActivity             224\n",
       "DietQuality                  228\n",
       "SleepQuality                 227\n",
       "FamilyHistoryAlzheimers      224\n",
       "CardiovascularDisease        226\n",
       "Diabetes                     224\n",
       "Depression                   225\n",
       "HeadInjury                   225\n",
       "Hypertension                 224\n",
       "SystolicBP                   228\n",
       "DiastolicBP                  223\n",
       "CholesterolTotal             228\n",
       "CholesterolLDL               223\n",
       "CholesterolHDL               227\n",
       "CholesterolTriglycerides     226\n",
       "MMSE                         222\n",
       "FunctionalAssessment         227\n",
       "MemoryComplaints             225\n",
       "BehavioralProblems           227\n",
       "ADL                          224\n",
       "Confusion                    227\n",
       "Disorientation               226\n",
       "PersonalityChanges           221\n",
       "DifficultyCompletingTasks    229\n",
       "Forgetfulness                225\n",
       "Diagnosis                    227\n",
       "DoctorInCharge                 0\n",
       "dtype: int64"
      ]
     },
     "execution_count": 23,
     "metadata": {},
     "output_type": "execute_result"
    }
   ],
   "source": [
    "df.isnull().sum()"
   ]
  },
  {
   "cell_type": "code",
   "execution_count": 24,
   "metadata": {
    "colab": {
     "base_uri": "https://localhost:8080/"
    },
    "id": "V0U-O36YuleO",
    "outputId": "cc7f004c-4133-47da-b82c-4718139d1796"
   },
   "outputs": [
    {
     "data": {
      "text/plain": [
       "array([nan,  0.,  1.])"
      ]
     },
     "execution_count": 24,
     "metadata": {},
     "output_type": "execute_result"
    }
   ],
   "source": [
    "df['Diagnosis'].unique()"
   ]
  },
  {
   "cell_type": "code",
   "execution_count": 25,
   "metadata": {
    "id": "LQ_Iu3lOyP0O"
   },
   "outputs": [],
   "source": [
    "df_cleaned = df.dropna(thresh=len(df.columns) - 17 )"
   ]
  },
  {
   "cell_type": "code",
   "execution_count": 26,
   "metadata": {
    "id": "xITucumJzwce"
   },
   "outputs": [],
   "source": [
    "df = df_cleaned"
   ]
  },
  {
   "cell_type": "markdown",
   "metadata": {
    "id": "0ZgPGcmG2ib1"
   },
   "source": [
    "***Hanlding missing values in age column***\n",
    "\n"
   ]
  },
  {
   "cell_type": "code",
   "execution_count": 27,
   "metadata": {
    "colab": {
     "base_uri": "https://localhost:8080/",
     "height": 458
    },
    "id": "gsJWxofBz1NO",
    "outputId": "7d21b38f-4d63-4fbd-f2f0-059916750091"
   },
   "outputs": [
    {
     "data": {
      "image/png": "[encoded data removed]",
      "text/plain": [
       "<Figure size 640x480 with 1 Axes>"
      ]
     },
     "metadata": {},
     "output_type": "display_data"
    }
   ],
   "source": [
    "import seaborn as sns\n",
    "import matplotlib.pyplot as plt\n",
    "sns.boxplot(data=df, y='Age')\n",
    "plt.title('Boxplot of Age')\n",
    "plt.xlabel('Values')\n",
    "plt.show()\n"
   ]
  },
  {
   "cell_type": "code",
   "execution_count": 28,
   "metadata": {
    "colab": {
     "base_uri": "https://localhost:8080/",
     "height": 472
    },
    "id": "pHgpFs5c0urI",
    "outputId": "2c2c73f8-0af4-43ac-8c6f-776116181770"
   },
   "outputs": [
    {
     "data": {
      "image/png": "[encoded data removed]",
      "text/plain": [
       "<Figure size 640x480 with 1 Axes>"
      ]
     },
     "metadata": {},
     "output_type": "display_data"
    }
   ],
   "source": [
    "df['Age'].plot(kind='hist', bins=20, edgecolor='black', alpha=0.7)\n",
    "plt.title('Histogram of Age')\n",
    "plt.xlabel('Values')\n",
    "plt.ylabel('Frequency')\n",
    "plt.show()"
   ]
  },
  {
   "cell_type": "code",
   "execution_count": 29,
   "metadata": {
    "id": "pqI-OrjB2I3K"
   },
   "outputs": [],
   "source": [
    "df['Age'].fillna(round(df['Age'].mean()), inplace=True)"
   ]
  },
  {
   "cell_type": "code",
   "execution_count": 30,
   "metadata": {
    "colab": {
     "base_uri": "https://localhost:8080/",
     "height": 1000
    },
    "id": "qI9MYWKv2sOi",
    "outputId": "7bc371dc-8911-431b-f2d2-65507fe6934b"
   },
   "outputs": [
    {
     "data": {
      "text/plain": [
       "Age                            0\n",
       "Gender                       225\n",
       "Ethnicity                    226\n",
       "EducationLevel               228\n",
       "BMI                          226\n",
       "Smoking                      223\n",
       "AlcoholConsumption           223\n",
       "PhysicalActivity             224\n",
       "DietQuality                  228\n",
       "SleepQuality                 227\n",
       "FamilyHistoryAlzheimers      224\n",
       "CardiovascularDisease        226\n",
       "Diabetes                     224\n",
       "Depression                   225\n",
       "HeadInjury                   225\n",
       "Hypertension                 224\n",
       "SystolicBP                   228\n",
       "DiastolicBP                  223\n",
       "CholesterolTotal             228\n",
       "CholesterolLDL               223\n",
       "CholesterolHDL               227\n",
       "CholesterolTriglycerides     226\n",
       "MMSE                         222\n",
       "FunctionalAssessment         227\n",
       "MemoryComplaints             225\n",
       "BehavioralProblems           227\n",
       "ADL                          224\n",
       "Confusion                    227\n",
       "Disorientation               226\n",
       "PersonalityChanges           221\n",
       "DifficultyCompletingTasks    229\n",
       "Forgetfulness                225\n",
       "Diagnosis                    227\n",
       "DoctorInCharge                 0\n",
       "dtype: int64"
      ]
     },
     "execution_count": 30,
     "metadata": {},
     "output_type": "execute_result"
    }
   ],
   "source": [
    "df.isnull().sum()"
   ]
  },
  {
   "cell_type": "markdown",
   "metadata": {
    "id": "Ocpqo9Wy3lyM"
   },
   "source": [
    "***Handling missing value in gender column***"
   ]
  },
  {
   "cell_type": "code",
   "execution_count": 31,
   "metadata": {
    "colab": {
     "base_uri": "https://localhost:8080/",
     "height": 574
    },
    "id": "rNDJrcDZ3k-0",
    "outputId": "46f533ba-eb6a-4454-f532-fc65b5388bc5"
   },
   "outputs": [
    {
     "name": "stderr",
     "output_type": "stream",
     "text": [
      "C:\\Users\\DELL\\AppData\\Local\\Temp\\ipykernel_23512\\1144527818.py:1: FutureWarning: \n",
      "\n",
      "Passing `palette` without assigning `hue` is deprecated and will be removed in v0.14.0. Assign the `x` variable to `hue` and set `legend=False` for the same effect.\n",
      "\n",
      "  sns.countplot(x='Diagnosis', data=df, palette='Blues')\n"
     ]
    },
    {
     "data": {
      "image/png": "[encoded data removed]",
      "text/plain": [
       "<Figure size 640x480 with 1 Axes>"
      ]
     },
     "metadata": {},
     "output_type": "display_data"
    }
   ],
   "source": [
    "sns.countplot(x='Diagnosis', data=df, palette='Blues')\n",
    "\n",
    "plt.title('Bar Chart of Diagnosis')\n",
    "plt.xlabel('Unique Values')\n",
    "plt.ylabel('Count')\n",
    "plt.xticks(rotation=45)  # Rotate x-axis labels if needed\n",
    "plt.show()"
   ]
  },
  {
   "cell_type": "code",
   "execution_count": 32,
   "metadata": {
    "colab": {
     "base_uri": "https://localhost:8080/"
    },
    "collapsed": true,
    "id": "KFRlobNf7Sqz",
    "outputId": "fbf7f13a-1ba4-445a-884b-503f80cbcbad"
   },
   "outputs": [
    {
     "name": "stdout",
     "output_type": "stream",
     "text": [
      "0       False\n",
      "1       False\n",
      "2       False\n",
      "3       False\n",
      "4       False\n",
      "        ...  \n",
      "2251    False\n",
      "2252    False\n",
      "2253    False\n",
      "2254     True\n",
      "2255     True\n",
      "Length: 2256, dtype: bool\n"
     ]
    }
   ],
   "source": [
    "print(df.duplicated())"
   ]
  },
  {
   "cell_type": "code",
   "execution_count": 33,
   "metadata": {
    "id": "aXgqAgE0EBvo"
   },
   "outputs": [],
   "source": [
    "pd.options.display.max_rows = 9999"
   ]
  },
  {
   "cell_type": "code",
   "execution_count": 34,
   "metadata": {
    "colab": {
     "base_uri": "https://localhost:8080/",
     "height": 1000
    },
    "id": "I21GF3g0E6du",
    "outputId": "860fe381-37c1-4160-f2c8-9289737f63c5"
   },
   "outputs": [
    {
     "name": "stdout",
     "output_type": "stream",
     "text": [
      "<class 'pandas.core.frame.DataFrame'>\n",
      "Int64Index: 2204 entries, 0 to 2253\n",
      "Data columns (total 34 columns):\n",
      " #   Column                     Non-Null Count  Dtype  \n",
      "---  ------                     --------------  -----  \n",
      " 0   Age                        2204 non-null   float64\n",
      " 1   Gender                     1984 non-null   float64\n",
      " 2   Ethnicity                  1983 non-null   float64\n",
      " 3   EducationLevel             1981 non-null   float64\n",
      " 4   BMI                        1983 non-null   float64\n",
      " 5   Smoking                    1982 non-null   float64\n",
      " 6   AlcoholConsumption         1984 non-null   float64\n",
      " 7   PhysicalActivity           1984 non-null   float64\n",
      " 8   DietQuality                1982 non-null   float64\n",
      " 9   SleepQuality               1983 non-null   float64\n",
      " 10  FamilyHistoryAlzheimers    1984 non-null   float64\n",
      " 11  CardiovascularDisease      1983 non-null   float64\n",
      " 12  Diabetes                   1984 non-null   float64\n",
      " 13  Depression                 1985 non-null   float64\n",
      " 14  HeadInjury                 1983 non-null   float64\n",
      " 15  Hypertension               1982 non-null   float64\n",
      " 16  SystolicBP                 1981 non-null   float64\n",
      " 17  DiastolicBP                1984 non-null   float64\n",
      " 18  CholesterolTotal           1983 non-null   float64\n",
      " 19  CholesterolLDL             1984 non-null   float64\n",
      " 20  CholesterolHDL             1982 non-null   float64\n",
      " 21  CholesterolTriglycerides   1983 non-null   float64\n",
      " 22  MMSE                       1986 non-null   float64\n",
      " 23  FunctionalAssessment       1982 non-null   float64\n",
      " 24  MemoryComplaints           1984 non-null   float64\n",
      " 25  BehavioralProblems         1983 non-null   float64\n",
      " 26  ADL                        1983 non-null   float64\n",
      " 27  Confusion                  1983 non-null   float64\n",
      " 28  Disorientation             1985 non-null   float64\n",
      " 29  PersonalityChanges         1986 non-null   float64\n",
      " 30  DifficultyCompletingTasks  1981 non-null   float64\n",
      " 31  Forgetfulness              1984 non-null   float64\n",
      " 32  Diagnosis                  1982 non-null   float64\n",
      " 33  DoctorInCharge             2204 non-null   object \n",
      "dtypes: float64(33), object(1)\n",
      "memory usage: 602.7+ KB\n"
     ]
    },
    {
     "data": {
      "text/plain": [
       "Age                            0\n",
       "Gender                       220\n",
       "Ethnicity                    221\n",
       "EducationLevel               223\n",
       "BMI                          221\n",
       "Smoking                      222\n",
       "AlcoholConsumption           220\n",
       "PhysicalActivity             220\n",
       "DietQuality                  222\n",
       "SleepQuality                 221\n",
       "FamilyHistoryAlzheimers      220\n",
       "CardiovascularDisease        221\n",
       "Diabetes                     220\n",
       "Depression                   219\n",
       "HeadInjury                   221\n",
       "Hypertension                 222\n",
       "SystolicBP                   223\n",
       "DiastolicBP                  220\n",
       "CholesterolTotal             221\n",
       "CholesterolLDL               220\n",
       "CholesterolHDL               222\n",
       "CholesterolTriglycerides     221\n",
       "MMSE                         218\n",
       "FunctionalAssessment         222\n",
       "MemoryComplaints             220\n",
       "BehavioralProblems           221\n",
       "ADL                          221\n",
       "Confusion                    221\n",
       "Disorientation               219\n",
       "PersonalityChanges           218\n",
       "DifficultyCompletingTasks    223\n",
       "Forgetfulness                220\n",
       "Diagnosis                    222\n",
       "DoctorInCharge                 0\n",
       "dtype: int64"
      ]
     },
     "execution_count": 34,
     "metadata": {},
     "output_type": "execute_result"
    }
   ],
   "source": [
    "df.drop_duplicates(inplace = True)\n",
    "df.info()\n",
    "df.isnull().sum()"
   ]
  },
  {
   "cell_type": "code",
   "execution_count": 35,
   "metadata": {
    "colab": {
     "base_uri": "https://localhost:8080/"
    },
    "id": "TZ4fqXlcG9yt",
    "outputId": "41ea7cd8-6095-4cb9-faac-ed9d1cafb36d"
   },
   "outputs": [
    {
     "data": {
      "text/plain": [
       "array([[0.35469223],\n",
       "       [0.        ],\n",
       "       [0.        ],\n",
       "       ...,\n",
       "       [1.        ],\n",
       "       [1.        ],\n",
       "       [0.        ]])"
      ]
     },
     "execution_count": 35,
     "metadata": {},
     "output_type": "execute_result"
    }
   ],
   "source": [
    "from sklearn.impute import KNNImputer\n",
    "\n",
    "imputer = KNNImputer(n_neighbors=5)\n",
    "df_clean = imputer.fit_transform(df[['Diagnosis']])\n",
    "df_clean\n"
   ]
  },
  {
   "cell_type": "code",
   "execution_count": 36,
   "metadata": {
    "colab": {
     "base_uri": "https://localhost:8080/",
     "height": 574
    },
    "id": "DZE76XgjRZxX",
    "outputId": "ddd4bf92-1665-49fe-c92a-55d0eefd90b7"
   },
   "outputs": [
    {
     "name": "stderr",
     "output_type": "stream",
     "text": [
      "C:\\Users\\DELL\\AppData\\Local\\Temp\\ipykernel_23512\\4135886592.py:1: FutureWarning: \n",
      "\n",
      "Passing `palette` without assigning `hue` is deprecated and will be removed in v0.14.0. Assign the `x` variable to `hue` and set `legend=False` for the same effect.\n",
      "\n",
      "  sns.countplot(x='Gender', data=df, palette='Blues')\n"
     ]
    },
    {
     "data": {
      "image/png": "[encoded data removed]",
      "text/plain": [
       "<Figure size 640x480 with 1 Axes>"
      ]
     },
     "metadata": {},
     "output_type": "display_data"
    }
   ],
   "source": [
    "sns.countplot(x='Gender', data=df, palette='Blues')\n",
    "\n",
    "plt.title('Bar Chart of Gender')\n",
    "plt.xlabel('Unique Values')\n",
    "plt.ylabel('Count')\n",
    "plt.xticks(rotation=45)  # Rotate x-axis labels if needed\n",
    "plt.show()"
   ]
  },
  {
   "cell_type": "code",
   "execution_count": 37,
   "metadata": {
    "colab": {
     "base_uri": "https://localhost:8080/"
    },
    "id": "3Bc5c7wim-GP",
    "outputId": "cf7a517f-3f72-4a03-8126-d27cf4568155"
   },
   "outputs": [
    {
     "data": {
      "text/plain": [
       "0"
      ]
     },
     "execution_count": 37,
     "metadata": {},
     "output_type": "execute_result"
    }
   ],
   "source": [
    "df['Diagnosis'].fillna(1, inplace=True)\n",
    "df['Diagnosis'].isnull().sum()"
   ]
  },
  {
   "cell_type": "code",
   "execution_count": 38,
   "metadata": {
    "colab": {
     "base_uri": "https://localhost:8080/",
     "height": 1000
    },
    "id": "N9pr8PnCoxx6",
    "outputId": "eb23e856-5738-4267-97a8-b58cdfab45e8"
   },
   "outputs": [
    {
     "data": {
      "text/plain": [
       "Age                            0\n",
       "Gender                         0\n",
       "Ethnicity                    221\n",
       "EducationLevel               223\n",
       "BMI                          221\n",
       "Smoking                      222\n",
       "AlcoholConsumption           220\n",
       "PhysicalActivity             220\n",
       "DietQuality                  222\n",
       "SleepQuality                 221\n",
       "FamilyHistoryAlzheimers      220\n",
       "CardiovascularDisease        221\n",
       "Diabetes                     220\n",
       "Depression                   219\n",
       "HeadInjury                   221\n",
       "Hypertension                 222\n",
       "SystolicBP                   223\n",
       "DiastolicBP                  220\n",
       "CholesterolTotal             221\n",
       "CholesterolLDL               220\n",
       "CholesterolHDL               222\n",
       "CholesterolTriglycerides     221\n",
       "MMSE                         218\n",
       "FunctionalAssessment         222\n",
       "MemoryComplaints             220\n",
       "BehavioralProblems           221\n",
       "ADL                          221\n",
       "Confusion                    221\n",
       "Disorientation               219\n",
       "PersonalityChanges           218\n",
       "DifficultyCompletingTasks    223\n",
       "Forgetfulness                220\n",
       "Diagnosis                      0\n",
       "DoctorInCharge                 0\n",
       "dtype: int64"
      ]
     },
     "execution_count": 38,
     "metadata": {},
     "output_type": "execute_result"
    }
   ],
   "source": [
    "class1 = df[df['Diagnosis'] == 1]['Gender'].mode()[0]\n",
    "class0 = df[df['Diagnosis'] == 0]['Gender'].mode()[0]\n",
    "\n",
    "for x in df.index:\n",
    "    if df.loc[x,\"Diagnosis\"]==1 and pd.isnull(df.loc[x,\"Gender\"])==True:\n",
    "        df.loc[x,\"Gender\"]=class1\n",
    "    elif df.loc[x,\"Diagnosis\"]==0 and pd.isnull(df.loc[x,\"Gender\"])==True:\n",
    "         df.loc[x,\"Gender\"]=class0\n",
    "df.isnull().sum()"
   ]
  },
  {
   "cell_type": "code",
   "execution_count": 39,
   "metadata": {
    "colab": {
     "base_uri": "https://localhost:8080/",
     "height": 1000
    },
    "collapsed": true,
    "id": "5wHOOi97qZZM",
    "outputId": "09d9a40e-ea7c-446b-e698-e95ae4764001"
   },
   "outputs": [
    {
     "data": {
      "text/plain": [
       "Age                            0\n",
       "Gender                         0\n",
       "Ethnicity                      0\n",
       "EducationLevel               223\n",
       "BMI                          221\n",
       "Smoking                      222\n",
       "AlcoholConsumption           220\n",
       "PhysicalActivity             220\n",
       "DietQuality                  222\n",
       "SleepQuality                 221\n",
       "FamilyHistoryAlzheimers      220\n",
       "CardiovascularDisease        221\n",
       "Diabetes                     220\n",
       "Depression                   219\n",
       "HeadInjury                   221\n",
       "Hypertension                 222\n",
       "SystolicBP                   223\n",
       "DiastolicBP                  220\n",
       "CholesterolTotal             221\n",
       "CholesterolLDL               220\n",
       "CholesterolHDL               222\n",
       "CholesterolTriglycerides     221\n",
       "MMSE                         218\n",
       "FunctionalAssessment         222\n",
       "MemoryComplaints             220\n",
       "BehavioralProblems           221\n",
       "ADL                          221\n",
       "Confusion                    221\n",
       "Disorientation               219\n",
       "PersonalityChanges           218\n",
       "DifficultyCompletingTasks    223\n",
       "Forgetfulness                220\n",
       "Diagnosis                      0\n",
       "DoctorInCharge                 0\n",
       "dtype: int64"
      ]
     },
     "execution_count": 39,
     "metadata": {},
     "output_type": "execute_result"
    }
   ],
   "source": [
    "class1 = df[df['Diagnosis'] == 1]['Ethnicity'].mode()[0]\n",
    "class0 = df[df['Diagnosis'] == 0]['Ethnicity'].mode()[0]\n",
    "\n",
    "for x in df.index:\n",
    "    if df.loc[x,\"Diagnosis\"]==1 and pd.isnull(df.loc[x,\"Ethnicity\"])==True:\n",
    "        df.loc[x,\"Ethnicity\"]=class1\n",
    "    elif df.loc[x,\"Diagnosis\"]==0 and pd.isnull(df.loc[x,\"Ethnicity\"])==True:\n",
    "         df.loc[x,\"Ethnicity\"]=class0\n",
    "df.isnull().sum()"
   ]
  },
  {
   "cell_type": "code",
   "execution_count": 40,
   "metadata": {
    "colab": {
     "base_uri": "https://localhost:8080/",
     "height": 1000
    },
    "collapsed": true,
    "id": "kRtipzZ8rADF",
    "outputId": "97002579-5876-461f-def3-e870adb6c7e0"
   },
   "outputs": [
    {
     "data": {
      "text/plain": [
       "Age                            0\n",
       "Gender                         0\n",
       "Ethnicity                      0\n",
       "EducationLevel                 0\n",
       "BMI                          221\n",
       "Smoking                      222\n",
       "AlcoholConsumption           220\n",
       "PhysicalActivity             220\n",
       "DietQuality                  222\n",
       "SleepQuality                 221\n",
       "FamilyHistoryAlzheimers      220\n",
       "CardiovascularDisease        221\n",
       "Diabetes                     220\n",
       "Depression                   219\n",
       "HeadInjury                   221\n",
       "Hypertension                 222\n",
       "SystolicBP                   223\n",
       "DiastolicBP                  220\n",
       "CholesterolTotal             221\n",
       "CholesterolLDL               220\n",
       "CholesterolHDL               222\n",
       "CholesterolTriglycerides     221\n",
       "MMSE                         218\n",
       "FunctionalAssessment         222\n",
       "MemoryComplaints             220\n",
       "BehavioralProblems           221\n",
       "ADL                          221\n",
       "Confusion                    221\n",
       "Disorientation               219\n",
       "PersonalityChanges           218\n",
       "DifficultyCompletingTasks    223\n",
       "Forgetfulness                220\n",
       "Diagnosis                      0\n",
       "DoctorInCharge                 0\n",
       "dtype: int64"
      ]
     },
     "execution_count": 40,
     "metadata": {},
     "output_type": "execute_result"
    }
   ],
   "source": [
    "class1 = df[df['Diagnosis'] == 1]['EducationLevel'].mode()[0]\n",
    "class0 = df[df['Diagnosis'] == 0]['EducationLevel'].mode()[0]\n",
    "\n",
    "for x in df.index:\n",
    "    if df.loc[x,\"Diagnosis\"]==1 and pd.isnull(df.loc[x,\"EducationLevel\"])==True:\n",
    "        df.loc[x,\"EducationLevel\"]=class1\n",
    "    elif df.loc[x,\"Diagnosis\"]==0 and pd.isnull(df.loc[x,\"EducationLevel\"])==True:\n",
    "         df.loc[x,\"EducationLevel\"]=class0\n",
    "df.isnull().sum()"
   ]
  },
  {
   "cell_type": "code",
   "execution_count": 41,
   "metadata": {
    "colab": {
     "base_uri": "https://localhost:8080/",
     "height": 1000
    },
    "collapsed": true,
    "id": "ClkMErcVrSlG",
    "outputId": "a592d21f-4221-4842-9aa4-b902ac779600"
   },
   "outputs": [
    {
     "data": {
      "text/plain": [
       "Age                            0\n",
       "Gender                         0\n",
       "Ethnicity                      0\n",
       "EducationLevel                 0\n",
       "BMI                          221\n",
       "Smoking                        0\n",
       "AlcoholConsumption           220\n",
       "PhysicalActivity             220\n",
       "DietQuality                  222\n",
       "SleepQuality                 221\n",
       "FamilyHistoryAlzheimers      220\n",
       "CardiovascularDisease        221\n",
       "Diabetes                     220\n",
       "Depression                   219\n",
       "HeadInjury                   221\n",
       "Hypertension                 222\n",
       "SystolicBP                   223\n",
       "DiastolicBP                  220\n",
       "CholesterolTotal             221\n",
       "CholesterolLDL               220\n",
       "CholesterolHDL               222\n",
       "CholesterolTriglycerides     221\n",
       "MMSE                         218\n",
       "FunctionalAssessment         222\n",
       "MemoryComplaints             220\n",
       "BehavioralProblems           221\n",
       "ADL                          221\n",
       "Confusion                    221\n",
       "Disorientation               219\n",
       "PersonalityChanges           218\n",
       "DifficultyCompletingTasks    223\n",
       "Forgetfulness                220\n",
       "Diagnosis                      0\n",
       "DoctorInCharge                 0\n",
       "dtype: int64"
      ]
     },
     "execution_count": 41,
     "metadata": {},
     "output_type": "execute_result"
    }
   ],
   "source": [
    "class1 = df[df['Diagnosis'] == 1]['Smoking'].mode()[0]\n",
    "class0 = df[df['Diagnosis'] == 0]['Smoking'].mode()[0]\n",
    "\n",
    "for x in df.index:\n",
    "    if df.loc[x,\"Diagnosis\"]==1 and pd.isnull(df.loc[x,\"Smoking\"])==True:\n",
    "        df.loc[x,\"Smoking\"]=class1\n",
    "    elif df.loc[x,\"Diagnosis\"]==0 and pd.isnull(df.loc[x,\"Smoking\"])==True:\n",
    "         df.loc[x,\"Smoking\"]=class0\n",
    "df.isnull().sum()"
   ]
  },
  {
   "cell_type": "code",
   "execution_count": 42,
   "metadata": {
    "colab": {
     "base_uri": "https://localhost:8080/",
     "height": 1000
    },
    "collapsed": true,
    "id": "KBZeFAIArf5S",
    "outputId": "6af77708-45c8-4a7a-a0dd-3c1ca6adfae0"
   },
   "outputs": [
    {
     "data": {
      "text/plain": [
       "Age                            0\n",
       "Gender                         0\n",
       "Ethnicity                      0\n",
       "EducationLevel                 0\n",
       "BMI                          221\n",
       "Smoking                        0\n",
       "AlcoholConsumption           220\n",
       "PhysicalActivity             220\n",
       "DietQuality                  222\n",
       "SleepQuality                 221\n",
       "FamilyHistoryAlzheimers        0\n",
       "CardiovascularDisease        221\n",
       "Diabetes                     220\n",
       "Depression                   219\n",
       "HeadInjury                   221\n",
       "Hypertension                 222\n",
       "SystolicBP                   223\n",
       "DiastolicBP                  220\n",
       "CholesterolTotal             221\n",
       "CholesterolLDL               220\n",
       "CholesterolHDL               222\n",
       "CholesterolTriglycerides     221\n",
       "MMSE                         218\n",
       "FunctionalAssessment         222\n",
       "MemoryComplaints             220\n",
       "BehavioralProblems           221\n",
       "ADL                          221\n",
       "Confusion                    221\n",
       "Disorientation               219\n",
       "PersonalityChanges           218\n",
       "DifficultyCompletingTasks    223\n",
       "Forgetfulness                220\n",
       "Diagnosis                      0\n",
       "DoctorInCharge                 0\n",
       "dtype: int64"
      ]
     },
     "execution_count": 42,
     "metadata": {},
     "output_type": "execute_result"
    }
   ],
   "source": [
    "class1 = df[df['Diagnosis'] == 1]['FamilyHistoryAlzheimers'].mode()[0]\n",
    "class0 = df[df['Diagnosis'] == 0]['FamilyHistoryAlzheimers'].mode()[0]\n",
    "\n",
    "for x in df.index:\n",
    "    if df.loc[x,\"Diagnosis\"]==1 and pd.isnull(df.loc[x,\"FamilyHistoryAlzheimers\"])==True:\n",
    "        df.loc[x,\"FamilyHistoryAlzheimers\"]=class1\n",
    "    elif df.loc[x,\"Diagnosis\"]==0 and pd.isnull(df.loc[x,\"FamilyHistoryAlzheimers\"])==True:\n",
    "         df.loc[x,\"FamilyHistoryAlzheimers\"]=class0\n",
    "df.isnull().sum()"
   ]
  },
  {
   "cell_type": "code",
   "execution_count": 43,
   "metadata": {
    "colab": {
     "base_uri": "https://localhost:8080/",
     "height": 1000
    },
    "collapsed": true,
    "id": "Am2RIWAHrrRA",
    "outputId": "d838496a-4eca-4708-cf4e-b03d8561cc05"
   },
   "outputs": [
    {
     "data": {
      "text/plain": [
       "Age                            0\n",
       "Gender                         0\n",
       "Ethnicity                      0\n",
       "EducationLevel                 0\n",
       "BMI                          221\n",
       "Smoking                        0\n",
       "AlcoholConsumption           220\n",
       "PhysicalActivity             220\n",
       "DietQuality                  222\n",
       "SleepQuality                 221\n",
       "FamilyHistoryAlzheimers        0\n",
       "CardiovascularDisease          0\n",
       "Diabetes                     220\n",
       "Depression                   219\n",
       "HeadInjury                   221\n",
       "Hypertension                 222\n",
       "SystolicBP                   223\n",
       "DiastolicBP                  220\n",
       "CholesterolTotal             221\n",
       "CholesterolLDL               220\n",
       "CholesterolHDL               222\n",
       "CholesterolTriglycerides     221\n",
       "MMSE                         218\n",
       "FunctionalAssessment         222\n",
       "MemoryComplaints             220\n",
       "BehavioralProblems           221\n",
       "ADL                          221\n",
       "Confusion                    221\n",
       "Disorientation               219\n",
       "PersonalityChanges           218\n",
       "DifficultyCompletingTasks    223\n",
       "Forgetfulness                220\n",
       "Diagnosis                      0\n",
       "DoctorInCharge                 0\n",
       "dtype: int64"
      ]
     },
     "execution_count": 43,
     "metadata": {},
     "output_type": "execute_result"
    }
   ],
   "source": [
    "class1 = df[df['Diagnosis'] == 1]['CardiovascularDisease'].mode()[0]\n",
    "class0 = df[df['Diagnosis'] == 0]['CardiovascularDisease'].mode()[0]\n",
    "\n",
    "for x in df.index:\n",
    "    if df.loc[x,\"Diagnosis\"]==1 and pd.isnull(df.loc[x,\"CardiovascularDisease\"])==True:\n",
    "        df.loc[x,\"CardiovascularDisease\"]=class1\n",
    "    elif df.loc[x,\"Diagnosis\"]==0 and pd.isnull(df.loc[x,\"CardiovascularDisease\"])==True:\n",
    "         df.loc[x,\"CardiovascularDisease\"]=class0\n",
    "df.isnull().sum()"
   ]
  },
  {
   "cell_type": "code",
   "execution_count": 44,
   "metadata": {
    "colab": {
     "base_uri": "https://localhost:8080/",
     "height": 1000
    },
    "collapsed": true,
    "id": "4pYxNIRer3n8",
    "outputId": "ca52bebd-c44d-4ef2-c60b-43dea7146809"
   },
   "outputs": [
    {
     "data": {
      "text/plain": [
       "Age                            0\n",
       "Gender                         0\n",
       "Ethnicity                      0\n",
       "EducationLevel                 0\n",
       "BMI                          221\n",
       "Smoking                        0\n",
       "AlcoholConsumption           220\n",
       "PhysicalActivity             220\n",
       "DietQuality                  222\n",
       "SleepQuality                 221\n",
       "FamilyHistoryAlzheimers        0\n",
       "CardiovascularDisease          0\n",
       "Diabetes                       0\n",
       "Depression                   219\n",
       "HeadInjury                   221\n",
       "Hypertension                 222\n",
       "SystolicBP                   223\n",
       "DiastolicBP                  220\n",
       "CholesterolTotal             221\n",
       "CholesterolLDL               220\n",
       "CholesterolHDL               222\n",
       "CholesterolTriglycerides     221\n",
       "MMSE                         218\n",
       "FunctionalAssessment         222\n",
       "MemoryComplaints             220\n",
       "BehavioralProblems           221\n",
       "ADL                          221\n",
       "Confusion                    221\n",
       "Disorientation               219\n",
       "PersonalityChanges           218\n",
       "DifficultyCompletingTasks    223\n",
       "Forgetfulness                220\n",
       "Diagnosis                      0\n",
       "DoctorInCharge                 0\n",
       "dtype: int64"
      ]
     },
     "execution_count": 44,
     "metadata": {},
     "output_type": "execute_result"
    }
   ],
   "source": [
    "class1 = df[df['Diagnosis'] == 1]['Diabetes'].mode()[0]\n",
    "class0 = df[df['Diagnosis'] == 0]['Diabetes'].mode()[0]\n",
    "\n",
    "for x in df.index:\n",
    "    if df.loc[x,\"Diagnosis\"]==1 and pd.isnull(df.loc[x,\"Diabetes\"])==True:\n",
    "        df.loc[x,\"Diabetes\"]=class1\n",
    "    elif df.loc[x,\"Diagnosis\"]==0 and pd.isnull(df.loc[x,\"Diabetes\"])==True:\n",
    "         df.loc[x,\"Diabetes\"]=class0\n",
    "df.isnull().sum()"
   ]
  },
  {
   "cell_type": "code",
   "execution_count": 45,
   "metadata": {
    "colab": {
     "base_uri": "https://localhost:8080/",
     "height": 1000
    },
    "collapsed": true,
    "id": "P6So8s-DsE1x",
    "outputId": "a7fa7c62-335e-4274-cfab-4101f6833226"
   },
   "outputs": [
    {
     "data": {
      "text/plain": [
       "Age                            0\n",
       "Gender                         0\n",
       "Ethnicity                      0\n",
       "EducationLevel                 0\n",
       "BMI                          221\n",
       "Smoking                        0\n",
       "AlcoholConsumption           220\n",
       "PhysicalActivity             220\n",
       "DietQuality                  222\n",
       "SleepQuality                 221\n",
       "FamilyHistoryAlzheimers        0\n",
       "CardiovascularDisease          0\n",
       "Diabetes                       0\n",
       "Depression                     0\n",
       "HeadInjury                   221\n",
       "Hypertension                 222\n",
       "SystolicBP                   223\n",
       "DiastolicBP                  220\n",
       "CholesterolTotal             221\n",
       "CholesterolLDL               220\n",
       "CholesterolHDL               222\n",
       "CholesterolTriglycerides     221\n",
       "MMSE                         218\n",
       "FunctionalAssessment         222\n",
       "MemoryComplaints             220\n",
       "BehavioralProblems           221\n",
       "ADL                          221\n",
       "Confusion                    221\n",
       "Disorientation               219\n",
       "PersonalityChanges           218\n",
       "DifficultyCompletingTasks    223\n",
       "Forgetfulness                220\n",
       "Diagnosis                      0\n",
       "DoctorInCharge                 0\n",
       "dtype: int64"
      ]
     },
     "execution_count": 45,
     "metadata": {},
     "output_type": "execute_result"
    }
   ],
   "source": [
    "class1 = df[df['Diagnosis'] == 1]['Depression'].mode()[0]\n",
    "class0 = df[df['Diagnosis'] == 0]['Depression'].mode()[0]\n",
    "\n",
    "for x in df.index:\n",
    "    if df.loc[x,\"Diagnosis\"]==1 and pd.isnull(df.loc[x,\"Depression\"])==True:\n",
    "        df.loc[x,\"Depression\"]=class1\n",
    "    elif df.loc[x,\"Diagnosis\"]==0 and pd.isnull(df.loc[x,\"Depression\"])==True:\n",
    "         df.loc[x,\"Depression\"]=class0\n",
    "df.isnull().sum()"
   ]
  },
  {
   "cell_type": "code",
   "execution_count": 46,
   "metadata": {
    "colab": {
     "base_uri": "https://localhost:8080/",
     "height": 1000
    },
    "collapsed": true,
    "id": "nTTKKODjsPZj",
    "outputId": "bd5179dd-d33e-4d15-fa49-d569303fdb3e"
   },
   "outputs": [
    {
     "data": {
      "text/plain": [
       "Age                            0\n",
       "Gender                         0\n",
       "Ethnicity                      0\n",
       "EducationLevel                 0\n",
       "BMI                          221\n",
       "Smoking                        0\n",
       "AlcoholConsumption           220\n",
       "PhysicalActivity             220\n",
       "DietQuality                  222\n",
       "SleepQuality                 221\n",
       "FamilyHistoryAlzheimers        0\n",
       "CardiovascularDisease          0\n",
       "Diabetes                       0\n",
       "Depression                     0\n",
       "HeadInjury                     0\n",
       "Hypertension                 222\n",
       "SystolicBP                   223\n",
       "DiastolicBP                  220\n",
       "CholesterolTotal             221\n",
       "CholesterolLDL               220\n",
       "CholesterolHDL               222\n",
       "CholesterolTriglycerides     221\n",
       "MMSE                         218\n",
       "FunctionalAssessment         222\n",
       "MemoryComplaints             220\n",
       "BehavioralProblems           221\n",
       "ADL                          221\n",
       "Confusion                    221\n",
       "Disorientation               219\n",
       "PersonalityChanges           218\n",
       "DifficultyCompletingTasks    223\n",
       "Forgetfulness                220\n",
       "Diagnosis                      0\n",
       "DoctorInCharge                 0\n",
       "dtype: int64"
      ]
     },
     "execution_count": 46,
     "metadata": {},
     "output_type": "execute_result"
    }
   ],
   "source": [
    "class1 = df[df['Diagnosis'] == 1]['HeadInjury'].mode()[0]\n",
    "class0 = df[df['Diagnosis'] == 0]['HeadInjury'].mode()[0]\n",
    "\n",
    "for x in df.index:\n",
    "    if df.loc[x,\"Diagnosis\"]==1 and pd.isnull(df.loc[x,\"HeadInjury\"])==True:\n",
    "        df.loc[x,\"HeadInjury\"]=class1\n",
    "    elif df.loc[x,\"Diagnosis\"]==0 and pd.isnull(df.loc[x,\"HeadInjury\"])==True:\n",
    "         df.loc[x,\"HeadInjury\"]=class0\n",
    "df.isnull().sum()"
   ]
  },
  {
   "cell_type": "code",
   "execution_count": 47,
   "metadata": {
    "colab": {
     "base_uri": "https://localhost:8080/",
     "height": 1000
    },
    "collapsed": true,
    "id": "qdobok-UsagF",
    "outputId": "7103ac4e-e890-45ed-a809-ec7c6d7bc2c3"
   },
   "outputs": [
    {
     "data": {
      "text/plain": [
       "Age                            0\n",
       "Gender                         0\n",
       "Ethnicity                      0\n",
       "EducationLevel                 0\n",
       "BMI                          221\n",
       "Smoking                        0\n",
       "AlcoholConsumption           220\n",
       "PhysicalActivity             220\n",
       "DietQuality                  222\n",
       "SleepQuality                 221\n",
       "FamilyHistoryAlzheimers        0\n",
       "CardiovascularDisease          0\n",
       "Diabetes                       0\n",
       "Depression                     0\n",
       "HeadInjury                     0\n",
       "Hypertension                 135\n",
       "SystolicBP                   223\n",
       "DiastolicBP                  220\n",
       "CholesterolTotal             221\n",
       "CholesterolLDL               220\n",
       "CholesterolHDL               222\n",
       "CholesterolTriglycerides     221\n",
       "MMSE                         218\n",
       "FunctionalAssessment         222\n",
       "MemoryComplaints             220\n",
       "BehavioralProblems           221\n",
       "ADL                          221\n",
       "Confusion                    221\n",
       "Disorientation               219\n",
       "PersonalityChanges           218\n",
       "DifficultyCompletingTasks    223\n",
       "Forgetfulness                220\n",
       "Diagnosis                      0\n",
       "DoctorInCharge                 0\n",
       "dtype: int64"
      ]
     },
     "execution_count": 47,
     "metadata": {},
     "output_type": "execute_result"
    }
   ],
   "source": [
    "class1 = df[df['Diagnosis'] == 1]['Hypertension'].mode()[0]\n",
    "class0 = df[df['Diagnosis'] == 0]['Hypertension'].mode()[0]\n",
    "\n",
    "for x in df.index:\n",
    "    if df.loc[x,\"Diagnosis\"]==1 and pd.isnull(df.loc[x,\"Hypertension\"])==True:\n",
    "        df.loc[x,\"Hypertension\"]=class1\n",
    "    elif df.loc[x,\"Diagnosis\"]==0 and pd.isnull(df.loc[x,\"Hypertension\"])==True:\n",
    "         df.loc[x,\"Depression\"]=class0\n",
    "df.isnull().sum()"
   ]
  },
  {
   "cell_type": "code",
   "execution_count": 48,
   "metadata": {
    "colab": {
     "base_uri": "https://localhost:8080/",
     "height": 1000
    },
    "collapsed": true,
    "id": "5a2lxkAaspBA",
    "outputId": "34476a17-1a61-4db0-e33a-1365de6c0c69"
   },
   "outputs": [
    {
     "data": {
      "text/plain": [
       "Age                            0\n",
       "Gender                         0\n",
       "Ethnicity                      0\n",
       "EducationLevel                 0\n",
       "BMI                          221\n",
       "Smoking                        0\n",
       "AlcoholConsumption           220\n",
       "PhysicalActivity             220\n",
       "DietQuality                  222\n",
       "SleepQuality                 221\n",
       "FamilyHistoryAlzheimers        0\n",
       "CardiovascularDisease          0\n",
       "Diabetes                       0\n",
       "Depression                     0\n",
       "HeadInjury                     0\n",
       "Hypertension                   0\n",
       "SystolicBP                   223\n",
       "DiastolicBP                  220\n",
       "CholesterolTotal             221\n",
       "CholesterolLDL               220\n",
       "CholesterolHDL               222\n",
       "CholesterolTriglycerides     221\n",
       "MMSE                         218\n",
       "FunctionalAssessment         222\n",
       "MemoryComplaints             220\n",
       "BehavioralProblems           221\n",
       "ADL                          221\n",
       "Confusion                    221\n",
       "Disorientation               219\n",
       "PersonalityChanges           218\n",
       "DifficultyCompletingTasks    223\n",
       "Forgetfulness                220\n",
       "Diagnosis                      0\n",
       "DoctorInCharge                 0\n",
       "dtype: int64"
      ]
     },
     "execution_count": 48,
     "metadata": {},
     "output_type": "execute_result"
    }
   ],
   "source": [
    "class1 = df[df['Diagnosis'] == 1]['Hypertension'].mode()[0]\n",
    "class0 = df[df['Diagnosis'] == 0]['Hypertension'].mode()[0]\n",
    "\n",
    "for x in df.index:\n",
    "    if df.loc[x,\"Diagnosis\"]==1 and pd.isnull(df.loc[x,\"Hypertension\"])==True:\n",
    "        df.loc[x,\"Hypertension\"]=class1\n",
    "    elif df.loc[x,\"Diagnosis\"]==0 and pd.isnull(df.loc[x,\"Hypertension\"])==True:\n",
    "         df.loc[x,\"Hypertension\"]=class0\n",
    "df.isnull().sum()"
   ]
  },
  {
   "cell_type": "code",
   "execution_count": 49,
   "metadata": {
    "colab": {
     "base_uri": "https://localhost:8080/",
     "height": 1000
    },
    "collapsed": true,
    "id": "p945OXzAs1tr",
    "outputId": "a18964ff-72d6-4305-9968-51afa455d7e3"
   },
   "outputs": [
    {
     "data": {
      "text/plain": [
       "Age                            0\n",
       "Gender                         0\n",
       "Ethnicity                      0\n",
       "EducationLevel                 0\n",
       "BMI                          221\n",
       "Smoking                        0\n",
       "AlcoholConsumption           220\n",
       "PhysicalActivity             220\n",
       "DietQuality                  222\n",
       "SleepQuality                 221\n",
       "FamilyHistoryAlzheimers        0\n",
       "CardiovascularDisease          0\n",
       "Diabetes                       0\n",
       "Depression                     0\n",
       "HeadInjury                     0\n",
       "Hypertension                   0\n",
       "SystolicBP                   223\n",
       "DiastolicBP                  220\n",
       "CholesterolTotal             221\n",
       "CholesterolLDL               220\n",
       "CholesterolHDL               222\n",
       "CholesterolTriglycerides     221\n",
       "MMSE                         218\n",
       "FunctionalAssessment         222\n",
       "MemoryComplaints               0\n",
       "BehavioralProblems           221\n",
       "ADL                          221\n",
       "Confusion                    221\n",
       "Disorientation               219\n",
       "PersonalityChanges           218\n",
       "DifficultyCompletingTasks    223\n",
       "Forgetfulness                220\n",
       "Diagnosis                      0\n",
       "DoctorInCharge                 0\n",
       "dtype: int64"
      ]
     },
     "execution_count": 49,
     "metadata": {},
     "output_type": "execute_result"
    }
   ],
   "source": [
    "class1 = df[df['Diagnosis'] == 1]['MemoryComplaints'].mode()[0]\n",
    "class0 = df[df['Diagnosis'] == 0]['MemoryComplaints'].mode()[0]\n",
    "\n",
    "for x in df.index:\n",
    "    if df.loc[x,\"Diagnosis\"]==1 and pd.isnull(df.loc[x,\"MemoryComplaints\"])==True:\n",
    "        df.loc[x,\"MemoryComplaints\"]=class1\n",
    "    elif df.loc[x,\"Diagnosis\"]==0 and pd.isnull(df.loc[x,\"MemoryComplaints\"])==True:\n",
    "         df.loc[x,\"MemoryComplaints\"]=class0\n",
    "df.isnull().sum()"
   ]
  },
  {
   "cell_type": "code",
   "execution_count": 50,
   "metadata": {
    "colab": {
     "base_uri": "https://localhost:8080/",
     "height": 1000
    },
    "collapsed": true,
    "id": "clR7yn3MtBYc",
    "outputId": "2fc4dc3a-6033-42ff-af37-aa4b5bbb68c3"
   },
   "outputs": [
    {
     "data": {
      "text/plain": [
       "Age                            0\n",
       "Gender                         0\n",
       "Ethnicity                      0\n",
       "EducationLevel                 0\n",
       "BMI                          221\n",
       "Smoking                        0\n",
       "AlcoholConsumption           220\n",
       "PhysicalActivity             220\n",
       "DietQuality                  222\n",
       "SleepQuality                 221\n",
       "FamilyHistoryAlzheimers        0\n",
       "CardiovascularDisease          0\n",
       "Diabetes                       0\n",
       "Depression                     0\n",
       "HeadInjury                     0\n",
       "Hypertension                   0\n",
       "SystolicBP                   223\n",
       "DiastolicBP                  220\n",
       "CholesterolTotal             221\n",
       "CholesterolLDL               220\n",
       "CholesterolHDL               222\n",
       "CholesterolTriglycerides     221\n",
       "MMSE                         218\n",
       "FunctionalAssessment         222\n",
       "MemoryComplaints               0\n",
       "BehavioralProblems             0\n",
       "ADL                          221\n",
       "Confusion                    221\n",
       "Disorientation               219\n",
       "PersonalityChanges           218\n",
       "DifficultyCompletingTasks    223\n",
       "Forgetfulness                220\n",
       "Diagnosis                      0\n",
       "DoctorInCharge                 0\n",
       "dtype: int64"
      ]
     },
     "execution_count": 50,
     "metadata": {},
     "output_type": "execute_result"
    }
   ],
   "source": [
    "class1 = df[df['Diagnosis'] == 1]['BehavioralProblems'].mode()[0]\n",
    "class0 = df[df['Diagnosis'] == 0]['BehavioralProblems'].mode()[0]\n",
    "\n",
    "for x in df.index:\n",
    "    if df.loc[x,\"Diagnosis\"]==1 and pd.isnull(df.loc[x,\"BehavioralProblems\"])==True:\n",
    "        df.loc[x,\"BehavioralProblems\"]=class1\n",
    "    elif df.loc[x,\"Diagnosis\"]==0 and pd.isnull(df.loc[x,\"BehavioralProblems\"])==True:\n",
    "         df.loc[x,\"BehavioralProblems\"]=class0\n",
    "df.isnull().sum()"
   ]
  },
  {
   "cell_type": "code",
   "execution_count": 51,
   "metadata": {
    "colab": {
     "base_uri": "https://localhost:8080/",
     "height": 1000
    },
    "collapsed": true,
    "id": "GIp9csBYtMRU",
    "outputId": "6f356b78-c01c-4c1f-ae77-86e3d8bf716a"
   },
   "outputs": [
    {
     "data": {
      "text/plain": [
       "Age                            0\n",
       "Gender                         0\n",
       "Ethnicity                      0\n",
       "EducationLevel                 0\n",
       "BMI                          221\n",
       "Smoking                        0\n",
       "AlcoholConsumption           220\n",
       "PhysicalActivity             220\n",
       "DietQuality                  222\n",
       "SleepQuality                 221\n",
       "FamilyHistoryAlzheimers        0\n",
       "CardiovascularDisease          0\n",
       "Diabetes                       0\n",
       "Depression                     0\n",
       "HeadInjury                     0\n",
       "Hypertension                   0\n",
       "SystolicBP                   223\n",
       "DiastolicBP                  220\n",
       "CholesterolTotal             221\n",
       "CholesterolLDL               220\n",
       "CholesterolHDL               222\n",
       "CholesterolTriglycerides     221\n",
       "MMSE                         218\n",
       "FunctionalAssessment         222\n",
       "MemoryComplaints               0\n",
       "BehavioralProblems             0\n",
       "ADL                          221\n",
       "Confusion                      0\n",
       "Disorientation               219\n",
       "PersonalityChanges           218\n",
       "DifficultyCompletingTasks    223\n",
       "Forgetfulness                220\n",
       "Diagnosis                      0\n",
       "DoctorInCharge                 0\n",
       "dtype: int64"
      ]
     },
     "execution_count": 51,
     "metadata": {},
     "output_type": "execute_result"
    }
   ],
   "source": [
    "class1 = df[df['Diagnosis'] == 1]['Confusion'].mode()[0]\n",
    "class0 = df[df['Diagnosis'] == 0]['Confusion'].mode()[0]\n",
    "\n",
    "for x in df.index:\n",
    "    if df.loc[x,\"Diagnosis\"]==1 and pd.isnull(df.loc[x,\"Confusion\"])==True:\n",
    "        df.loc[x,\"Confusion\"]=class1\n",
    "    elif df.loc[x,\"Diagnosis\"]==0 and pd.isnull(df.loc[x,\"Confusion\"])==True:\n",
    "         df.loc[x,\"Confusion\"]=class0\n",
    "df.isnull().sum()"
   ]
  },
  {
   "cell_type": "code",
   "execution_count": 52,
   "metadata": {
    "colab": {
     "base_uri": "https://localhost:8080/",
     "height": 1000
    },
    "collapsed": true,
    "id": "7RsZUE4utbql",
    "outputId": "bdc31dfa-17bd-404f-d5ce-456c11c84c91"
   },
   "outputs": [
    {
     "data": {
      "text/plain": [
       "Age                            0\n",
       "Gender                         0\n",
       "Ethnicity                      0\n",
       "EducationLevel                 0\n",
       "BMI                          221\n",
       "Smoking                        0\n",
       "AlcoholConsumption           220\n",
       "PhysicalActivity             220\n",
       "DietQuality                  222\n",
       "SleepQuality                 221\n",
       "FamilyHistoryAlzheimers        0\n",
       "CardiovascularDisease          0\n",
       "Diabetes                       0\n",
       "Depression                     0\n",
       "HeadInjury                     0\n",
       "Hypertension                   0\n",
       "SystolicBP                   223\n",
       "DiastolicBP                  220\n",
       "CholesterolTotal             221\n",
       "CholesterolLDL               220\n",
       "CholesterolHDL               222\n",
       "CholesterolTriglycerides     221\n",
       "MMSE                         218\n",
       "FunctionalAssessment         222\n",
       "MemoryComplaints               0\n",
       "BehavioralProblems             0\n",
       "ADL                          221\n",
       "Confusion                      0\n",
       "Disorientation                 0\n",
       "PersonalityChanges           218\n",
       "DifficultyCompletingTasks    223\n",
       "Forgetfulness                220\n",
       "Diagnosis                      0\n",
       "DoctorInCharge                 0\n",
       "dtype: int64"
      ]
     },
     "execution_count": 52,
     "metadata": {},
     "output_type": "execute_result"
    }
   ],
   "source": [
    "class1 = df[df['Diagnosis'] == 1]['Disorientation'].mode()[0]\n",
    "class0 = df[df['Diagnosis'] == 0]['Disorientation'].mode()[0]\n",
    "\n",
    "for x in df.index:\n",
    "    if df.loc[x,\"Diagnosis\"]==1 and pd.isnull(df.loc[x,\"Disorientation\"])==True:\n",
    "        df.loc[x,\"Disorientation\"]=class1\n",
    "    elif df.loc[x,\"Diagnosis\"]==0 and pd.isnull(df.loc[x,\"Disorientation\"])==True:\n",
    "         df.loc[x,\"Disorientation\"]=class0\n",
    "df.isnull().sum()"
   ]
  },
  {
   "cell_type": "code",
   "execution_count": 53,
   "metadata": {
    "colab": {
     "base_uri": "https://localhost:8080/",
     "height": 1000
    },
    "collapsed": true,
    "id": "P_9yn4UZtoRf",
    "outputId": "97aed4ee-6095-49be-b79b-96bafc519496"
   },
   "outputs": [
    {
     "data": {
      "text/plain": [
       "Age                            0\n",
       "Gender                         0\n",
       "Ethnicity                      0\n",
       "EducationLevel                 0\n",
       "BMI                          221\n",
       "Smoking                        0\n",
       "AlcoholConsumption           220\n",
       "PhysicalActivity             220\n",
       "DietQuality                  222\n",
       "SleepQuality                 221\n",
       "FamilyHistoryAlzheimers        0\n",
       "CardiovascularDisease          0\n",
       "Diabetes                       0\n",
       "Depression                     0\n",
       "HeadInjury                     0\n",
       "Hypertension                   0\n",
       "SystolicBP                   223\n",
       "DiastolicBP                  220\n",
       "CholesterolTotal             221\n",
       "CholesterolLDL               220\n",
       "CholesterolHDL               222\n",
       "CholesterolTriglycerides     221\n",
       "MMSE                         218\n",
       "FunctionalAssessment         222\n",
       "MemoryComplaints               0\n",
       "BehavioralProblems             0\n",
       "ADL                          221\n",
       "Confusion                      0\n",
       "Disorientation                 0\n",
       "PersonalityChanges             0\n",
       "DifficultyCompletingTasks    223\n",
       "Forgetfulness                220\n",
       "Diagnosis                      0\n",
       "DoctorInCharge                 0\n",
       "dtype: int64"
      ]
     },
     "execution_count": 53,
     "metadata": {},
     "output_type": "execute_result"
    }
   ],
   "source": [
    "class1 = df[df['Diagnosis'] == 1]['PersonalityChanges'].mode()[0]\n",
    "class0 = df[df['Diagnosis'] == 0]['PersonalityChanges'].mode()[0]\n",
    "\n",
    "for x in df.index:\n",
    "    if df.loc[x,\"Diagnosis\"]==1 and pd.isnull(df.loc[x,\"PersonalityChanges\"])==True:\n",
    "        df.loc[x,\"PersonalityChanges\"]=class1\n",
    "    elif df.loc[x,\"Diagnosis\"]==0 and pd.isnull(df.loc[x,\"PersonalityChanges\"])==True:\n",
    "         df.loc[x,\"PersonalityChanges\"]=class0\n",
    "df.isnull().sum()"
   ]
  },
  {
   "cell_type": "code",
   "execution_count": 54,
   "metadata": {
    "colab": {
     "base_uri": "https://localhost:8080/",
     "height": 1000
    },
    "id": "QRkFE0m5uMqB",
    "outputId": "5961d9dc-5b13-4b2c-f089-971b4f76416d"
   },
   "outputs": [
    {
     "data": {
      "text/plain": [
       "Age                            0\n",
       "Gender                         0\n",
       "Ethnicity                      0\n",
       "EducationLevel                 0\n",
       "BMI                          221\n",
       "Smoking                        0\n",
       "AlcoholConsumption           220\n",
       "PhysicalActivity             220\n",
       "DietQuality                  222\n",
       "SleepQuality                 221\n",
       "FamilyHistoryAlzheimers        0\n",
       "CardiovascularDisease          0\n",
       "Diabetes                       0\n",
       "Depression                     0\n",
       "HeadInjury                     0\n",
       "Hypertension                   0\n",
       "SystolicBP                   223\n",
       "DiastolicBP                  220\n",
       "CholesterolTotal             221\n",
       "CholesterolLDL               220\n",
       "CholesterolHDL               222\n",
       "CholesterolTriglycerides     221\n",
       "MMSE                         218\n",
       "FunctionalAssessment         222\n",
       "MemoryComplaints               0\n",
       "BehavioralProblems             0\n",
       "ADL                          221\n",
       "Confusion                      0\n",
       "Disorientation                 0\n",
       "PersonalityChanges             0\n",
       "DifficultyCompletingTasks      0\n",
       "Forgetfulness                220\n",
       "Diagnosis                      0\n",
       "DoctorInCharge                 0\n",
       "dtype: int64"
      ]
     },
     "execution_count": 54,
     "metadata": {},
     "output_type": "execute_result"
    }
   ],
   "source": [
    "class1 = df[df['Diagnosis'] == 1]['DifficultyCompletingTasks'].mode()[0]\n",
    "class0 = df[df['Diagnosis'] == 0]['DifficultyCompletingTasks'].mode()[0]\n",
    "\n",
    "for x in df.index:\n",
    "    if df.loc[x,\"Diagnosis\"]==1 and pd.isnull(df.loc[x,\"DifficultyCompletingTasks\"])==True:\n",
    "        df.loc[x,\"DifficultyCompletingTasks\"]=class1\n",
    "    elif df.loc[x,\"Diagnosis\"]==0 and pd.isnull(df.loc[x,\"DifficultyCompletingTasks\"])==True:\n",
    "         df.loc[x,\"DifficultyCompletingTasks\"]=class0\n",
    "df.isnull().sum()"
   ]
  },
  {
   "cell_type": "code",
   "execution_count": 55,
   "metadata": {
    "colab": {
     "base_uri": "https://localhost:8080/",
     "height": 1000
    },
    "collapsed": true,
    "id": "lg_i3hgXug-E",
    "outputId": "e11d4d6c-f120-4d71-fc33-60f6ffa99afc"
   },
   "outputs": [
    {
     "data": {
      "text/plain": [
       "Age                            0\n",
       "Gender                         0\n",
       "Ethnicity                      0\n",
       "EducationLevel                 0\n",
       "BMI                          221\n",
       "Smoking                        0\n",
       "AlcoholConsumption           220\n",
       "PhysicalActivity             220\n",
       "DietQuality                  222\n",
       "SleepQuality                 221\n",
       "FamilyHistoryAlzheimers        0\n",
       "CardiovascularDisease          0\n",
       "Diabetes                       0\n",
       "Depression                     0\n",
       "HeadInjury                     0\n",
       "Hypertension                   0\n",
       "SystolicBP                   223\n",
       "DiastolicBP                  220\n",
       "CholesterolTotal             221\n",
       "CholesterolLDL               220\n",
       "CholesterolHDL               222\n",
       "CholesterolTriglycerides     221\n",
       "MMSE                         218\n",
       "FunctionalAssessment         222\n",
       "MemoryComplaints               0\n",
       "BehavioralProblems             0\n",
       "ADL                          221\n",
       "Confusion                      0\n",
       "Disorientation                 0\n",
       "PersonalityChanges             0\n",
       "DifficultyCompletingTasks      0\n",
       "Forgetfulness                  0\n",
       "Diagnosis                      0\n",
       "DoctorInCharge                 0\n",
       "dtype: int64"
      ]
     },
     "execution_count": 55,
     "metadata": {},
     "output_type": "execute_result"
    }
   ],
   "source": [
    "class1 = df[df['Diagnosis'] == 1]['Forgetfulness'].mode()[0]\n",
    "class0 = df[df['Diagnosis'] == 0]['Forgetfulness'].mode()[0]\n",
    "\n",
    "for x in df.index:\n",
    "    if df.loc[x,\"Diagnosis\"]==1 and pd.isnull(df.loc[x,\"Forgetfulness\"])==True:\n",
    "        df.loc[x,\"Forgetfulness\"]=class1\n",
    "    elif df.loc[x,\"Diagnosis\"]==0 and pd.isnull(df.loc[x,\"Forgetfulness\"])==True:\n",
    "         df.loc[x,\"Forgetfulness\"]=class0\n",
    "df.isnull().sum()"
   ]
  },
  {
   "cell_type": "code",
   "execution_count": 56,
   "metadata": {
    "colab": {
     "base_uri": "https://localhost:8080/",
     "height": 1000
    },
    "collapsed": true,
    "id": "ozA2sJqSvAAM",
    "outputId": "34d7314c-d944-49b7-ac71-3804549d027f"
   },
   "outputs": [
    {
     "data": {
      "text/plain": [
       "Age                            0\n",
       "Gender                         0\n",
       "Ethnicity                      0\n",
       "EducationLevel                 0\n",
       "BMI                            0\n",
       "Smoking                        0\n",
       "AlcoholConsumption           220\n",
       "PhysicalActivity             220\n",
       "DietQuality                  222\n",
       "SleepQuality                 221\n",
       "FamilyHistoryAlzheimers        0\n",
       "CardiovascularDisease          0\n",
       "Diabetes                       0\n",
       "Depression                     0\n",
       "HeadInjury                     0\n",
       "Hypertension                   0\n",
       "SystolicBP                   223\n",
       "DiastolicBP                  220\n",
       "CholesterolTotal             221\n",
       "CholesterolLDL               220\n",
       "CholesterolHDL               222\n",
       "CholesterolTriglycerides     221\n",
       "MMSE                         218\n",
       "FunctionalAssessment         222\n",
       "MemoryComplaints               0\n",
       "BehavioralProblems             0\n",
       "ADL                          221\n",
       "Confusion                      0\n",
       "Disorientation                 0\n",
       "PersonalityChanges             0\n",
       "DifficultyCompletingTasks      0\n",
       "Forgetfulness                  0\n",
       "Diagnosis                      0\n",
       "DoctorInCharge                 0\n",
       "dtype: int64"
      ]
     },
     "execution_count": 56,
     "metadata": {},
     "output_type": "execute_result"
    }
   ],
   "source": [
    "class1 = df[df['Diagnosis'] == 1]['BMI'].mean()\n",
    "class0 = df[df['Diagnosis'] == 0]['BMI'].mean()\n",
    "\n",
    "for x in df.index:\n",
    "    if df.loc[x,\"Diagnosis\"]==1 and pd.isnull(df.loc[x,\"BMI\"])==True:\n",
    "        df.loc[x,\"BMI\"]=class1\n",
    "    elif df.loc[x,\"Diagnosis\"]==0 and pd.isnull(df.loc[x,\"BMI\"])==True:\n",
    "         df.loc[x,\"BMI\"]=class0\n",
    "df.isnull().sum()"
   ]
  },
  {
   "cell_type": "code",
   "execution_count": 57,
   "metadata": {
    "colab": {
     "base_uri": "https://localhost:8080/",
     "height": 1000
    },
    "collapsed": true,
    "id": "mm89JXznvx2D",
    "outputId": "68eb3b32-6411-4f15-b9e7-f50796e0442e"
   },
   "outputs": [
    {
     "data": {
      "text/plain": [
       "Age                            0\n",
       "Gender                         0\n",
       "Ethnicity                      0\n",
       "EducationLevel                 0\n",
       "BMI                            0\n",
       "Smoking                        0\n",
       "AlcoholConsumption             0\n",
       "PhysicalActivity             220\n",
       "DietQuality                  222\n",
       "SleepQuality                 221\n",
       "FamilyHistoryAlzheimers        0\n",
       "CardiovascularDisease          0\n",
       "Diabetes                       0\n",
       "Depression                     0\n",
       "HeadInjury                     0\n",
       "Hypertension                   0\n",
       "SystolicBP                   223\n",
       "DiastolicBP                  220\n",
       "CholesterolTotal             221\n",
       "CholesterolLDL               220\n",
       "CholesterolHDL               222\n",
       "CholesterolTriglycerides     221\n",
       "MMSE                         218\n",
       "FunctionalAssessment         222\n",
       "MemoryComplaints               0\n",
       "BehavioralProblems             0\n",
       "ADL                          221\n",
       "Confusion                      0\n",
       "Disorientation                 0\n",
       "PersonalityChanges             0\n",
       "DifficultyCompletingTasks      0\n",
       "Forgetfulness                  0\n",
       "Diagnosis                      0\n",
       "DoctorInCharge                 0\n",
       "dtype: int64"
      ]
     },
     "execution_count": 57,
     "metadata": {},
     "output_type": "execute_result"
    }
   ],
   "source": [
    "class1 = df[df['Diagnosis'] == 1]['AlcoholConsumption'].mean()\n",
    "class0 = df[df['Diagnosis'] == 0]['AlcoholConsumption'].mean()\n",
    "\n",
    "for x in df.index:\n",
    "    if df.loc[x,\"Diagnosis\"]==1 and pd.isnull(df.loc[x,\"AlcoholConsumption\"])==True:\n",
    "        df.loc[x,\"AlcoholConsumption\"]=class1\n",
    "    elif df.loc[x,\"Diagnosis\"]==0 and pd.isnull(df.loc[x,\"AlcoholConsumption\"])==True:\n",
    "         df.loc[x,\"AlcoholConsumption\"]=class0\n",
    "df.isnull().sum()"
   ]
  },
  {
   "cell_type": "code",
   "execution_count": 58,
   "metadata": {
    "colab": {
     "base_uri": "https://localhost:8080/",
     "height": 1000
    },
    "collapsed": true,
    "id": "RqWmkciUv_--",
    "outputId": "f50f1fc6-272c-4e1c-b3be-4bc84816ddeb"
   },
   "outputs": [
    {
     "data": {
      "text/plain": [
       "Age                            0\n",
       "Gender                         0\n",
       "Ethnicity                      0\n",
       "EducationLevel                 0\n",
       "BMI                            0\n",
       "Smoking                        0\n",
       "AlcoholConsumption             0\n",
       "PhysicalActivity               0\n",
       "DietQuality                  222\n",
       "SleepQuality                 221\n",
       "FamilyHistoryAlzheimers        0\n",
       "CardiovascularDisease          0\n",
       "Diabetes                       0\n",
       "Depression                     0\n",
       "HeadInjury                     0\n",
       "Hypertension                   0\n",
       "SystolicBP                   223\n",
       "DiastolicBP                  220\n",
       "CholesterolTotal             221\n",
       "CholesterolLDL               220\n",
       "CholesterolHDL               222\n",
       "CholesterolTriglycerides     221\n",
       "MMSE                         218\n",
       "FunctionalAssessment         222\n",
       "MemoryComplaints               0\n",
       "BehavioralProblems             0\n",
       "ADL                          221\n",
       "Confusion                      0\n",
       "Disorientation                 0\n",
       "PersonalityChanges             0\n",
       "DifficultyCompletingTasks      0\n",
       "Forgetfulness                  0\n",
       "Diagnosis                      0\n",
       "DoctorInCharge                 0\n",
       "dtype: int64"
      ]
     },
     "execution_count": 58,
     "metadata": {},
     "output_type": "execute_result"
    }
   ],
   "source": [
    "class1 = df[df['Diagnosis'] == 1]['PhysicalActivity'].mean()\n",
    "class0 = df[df['Diagnosis'] == 0]['PhysicalActivity'].mean()\n",
    "\n",
    "for x in df.index:\n",
    "    if df.loc[x,\"Diagnosis\"]==1 and pd.isnull(df.loc[x,\"PhysicalActivity\"])==True:\n",
    "        df.loc[x,\"PhysicalActivity\"]=class1\n",
    "    elif df.loc[x,\"Diagnosis\"]==0 and pd.isnull(df.loc[x,\"PhysicalActivity\"])==True:\n",
    "         df.loc[x,\"PhysicalActivity\"]=class0\n",
    "df.isnull().sum()"
   ]
  },
  {
   "cell_type": "code",
   "execution_count": 59,
   "metadata": {
    "colab": {
     "base_uri": "https://localhost:8080/",
     "height": 1000
    },
    "collapsed": true,
    "id": "oLS3oF7hwJ76",
    "outputId": "347ef800-7470-475c-842b-4ddc84087621"
   },
   "outputs": [
    {
     "data": {
      "text/plain": [
       "Age                            0\n",
       "Gender                         0\n",
       "Ethnicity                      0\n",
       "EducationLevel                 0\n",
       "BMI                            0\n",
       "Smoking                        0\n",
       "AlcoholConsumption             0\n",
       "PhysicalActivity               0\n",
       "DietQuality                    0\n",
       "SleepQuality                 221\n",
       "FamilyHistoryAlzheimers        0\n",
       "CardiovascularDisease          0\n",
       "Diabetes                       0\n",
       "Depression                     0\n",
       "HeadInjury                     0\n",
       "Hypertension                   0\n",
       "SystolicBP                   223\n",
       "DiastolicBP                  220\n",
       "CholesterolTotal             221\n",
       "CholesterolLDL               220\n",
       "CholesterolHDL               222\n",
       "CholesterolTriglycerides     221\n",
       "MMSE                         218\n",
       "FunctionalAssessment         222\n",
       "MemoryComplaints               0\n",
       "BehavioralProblems             0\n",
       "ADL                          221\n",
       "Confusion                      0\n",
       "Disorientation                 0\n",
       "PersonalityChanges             0\n",
       "DifficultyCompletingTasks      0\n",
       "Forgetfulness                  0\n",
       "Diagnosis                      0\n",
       "DoctorInCharge                 0\n",
       "dtype: int64"
      ]
     },
     "execution_count": 59,
     "metadata": {},
     "output_type": "execute_result"
    }
   ],
   "source": [
    "class1 = df[df['Diagnosis'] == 1]['DietQuality'].mean()\n",
    "class0 = df[df['Diagnosis'] == 0]['DietQuality'].mean()\n",
    "\n",
    "for x in df.index:\n",
    "    if df.loc[x,\"Diagnosis\"]==1 and pd.isnull(df.loc[x,\"DietQuality\"])==True:\n",
    "        df.loc[x,\"DietQuality\"]=class1\n",
    "    elif df.loc[x,\"Diagnosis\"]==0 and pd.isnull(df.loc[x,\"DietQuality\"])==True:\n",
    "         df.loc[x,\"DietQuality\"]=class0\n",
    "df.isnull().sum()"
   ]
  },
  {
   "cell_type": "code",
   "execution_count": 60,
   "metadata": {
    "colab": {
     "base_uri": "https://localhost:8080/",
     "height": 1000
    },
    "collapsed": true,
    "id": "eBmyRc_swR6l",
    "outputId": "e34be262-ef0b-4a40-b95f-cca92f5bddda"
   },
   "outputs": [
    {
     "data": {
      "text/plain": [
       "Age                            0\n",
       "Gender                         0\n",
       "Ethnicity                      0\n",
       "EducationLevel                 0\n",
       "BMI                            0\n",
       "Smoking                        0\n",
       "AlcoholConsumption             0\n",
       "PhysicalActivity               0\n",
       "DietQuality                    0\n",
       "SleepQuality                   0\n",
       "FamilyHistoryAlzheimers        0\n",
       "CardiovascularDisease          0\n",
       "Diabetes                       0\n",
       "Depression                     0\n",
       "HeadInjury                     0\n",
       "Hypertension                   0\n",
       "SystolicBP                   223\n",
       "DiastolicBP                  220\n",
       "CholesterolTotal             221\n",
       "CholesterolLDL               220\n",
       "CholesterolHDL               222\n",
       "CholesterolTriglycerides     221\n",
       "MMSE                         218\n",
       "FunctionalAssessment         222\n",
       "MemoryComplaints               0\n",
       "BehavioralProblems             0\n",
       "ADL                          221\n",
       "Confusion                      0\n",
       "Disorientation                 0\n",
       "PersonalityChanges             0\n",
       "DifficultyCompletingTasks      0\n",
       "Forgetfulness                  0\n",
       "Diagnosis                      0\n",
       "DoctorInCharge                 0\n",
       "dtype: int64"
      ]
     },
     "execution_count": 60,
     "metadata": {},
     "output_type": "execute_result"
    }
   ],
   "source": [
    "class1 = df[df['Diagnosis'] == 1]['SleepQuality'].mean()\n",
    "class0 = df[df['Diagnosis'] == 0]['SleepQuality'].mean()\n",
    "\n",
    "for x in df.index:\n",
    "    if df.loc[x,\"Diagnosis\"]==1 and pd.isnull(df.loc[x,\"SleepQuality\"])==True:\n",
    "        df.loc[x,\"SleepQuality\"]=class1\n",
    "    elif df.loc[x,\"Diagnosis\"]==0 and pd.isnull(df.loc[x,\"SleepQuality\"])==True:\n",
    "         df.loc[x,\"SleepQuality\"]=class0\n",
    "df.isnull().sum()"
   ]
  },
  {
   "cell_type": "code",
   "execution_count": 61,
   "metadata": {
    "colab": {
     "base_uri": "https://localhost:8080/",
     "height": 1000
    },
    "collapsed": true,
    "id": "UUjcs2qRwcS5",
    "outputId": "c10301ae-8a32-4641-c2c0-3f7efe103630"
   },
   "outputs": [
    {
     "data": {
      "text/plain": [
       "Age                            0\n",
       "Gender                         0\n",
       "Ethnicity                      0\n",
       "EducationLevel                 0\n",
       "BMI                            0\n",
       "Smoking                        0\n",
       "AlcoholConsumption             0\n",
       "PhysicalActivity               0\n",
       "DietQuality                    0\n",
       "SleepQuality                   0\n",
       "FamilyHistoryAlzheimers        0\n",
       "CardiovascularDisease          0\n",
       "Diabetes                       0\n",
       "Depression                     0\n",
       "HeadInjury                     0\n",
       "Hypertension                   0\n",
       "SystolicBP                     0\n",
       "DiastolicBP                  220\n",
       "CholesterolTotal             221\n",
       "CholesterolLDL               220\n",
       "CholesterolHDL               222\n",
       "CholesterolTriglycerides     221\n",
       "MMSE                         218\n",
       "FunctionalAssessment         222\n",
       "MemoryComplaints               0\n",
       "BehavioralProblems             0\n",
       "ADL                          221\n",
       "Confusion                      0\n",
       "Disorientation                 0\n",
       "PersonalityChanges             0\n",
       "DifficultyCompletingTasks      0\n",
       "Forgetfulness                  0\n",
       "Diagnosis                      0\n",
       "DoctorInCharge                 0\n",
       "dtype: int64"
      ]
     },
     "execution_count": 61,
     "metadata": {},
     "output_type": "execute_result"
    }
   ],
   "source": [
    "class1 = df[df['Diagnosis'] == 1]['SystolicBP'].mean()\n",
    "class0 = df[df['Diagnosis'] == 0]['SystolicBP'].mean()\n",
    "\n",
    "for x in df.index:\n",
    "    if df.loc[x,\"Diagnosis\"]==1 and pd.isnull(df.loc[x,\"SystolicBP\"])==True:\n",
    "        df.loc[x,\"SystolicBP\"]=class1\n",
    "    elif df.loc[x,\"Diagnosis\"]==0 and pd.isnull(df.loc[x,\"SystolicBP\"])==True:\n",
    "         df.loc[x,\"SystolicBP\"]=class0\n",
    "df.isnull().sum()"
   ]
  },
  {
   "cell_type": "code",
   "execution_count": 62,
   "metadata": {
    "colab": {
     "base_uri": "https://localhost:8080/",
     "height": 1000
    },
    "collapsed": true,
    "id": "ukQjLNAvwrOU",
    "outputId": "faf78bfc-7bc3-48c0-d09e-ca153eeb7f36"
   },
   "outputs": [
    {
     "data": {
      "text/plain": [
       "Age                            0\n",
       "Gender                         0\n",
       "Ethnicity                      0\n",
       "EducationLevel                 0\n",
       "BMI                            0\n",
       "Smoking                        0\n",
       "AlcoholConsumption             0\n",
       "PhysicalActivity               0\n",
       "DietQuality                    0\n",
       "SleepQuality                   0\n",
       "FamilyHistoryAlzheimers        0\n",
       "CardiovascularDisease          0\n",
       "Diabetes                       0\n",
       "Depression                     0\n",
       "HeadInjury                     0\n",
       "Hypertension                   0\n",
       "SystolicBP                     0\n",
       "DiastolicBP                    0\n",
       "CholesterolTotal             221\n",
       "CholesterolLDL               220\n",
       "CholesterolHDL               222\n",
       "CholesterolTriglycerides     221\n",
       "MMSE                         218\n",
       "FunctionalAssessment         222\n",
       "MemoryComplaints               0\n",
       "BehavioralProblems             0\n",
       "ADL                          221\n",
       "Confusion                      0\n",
       "Disorientation                 0\n",
       "PersonalityChanges             0\n",
       "DifficultyCompletingTasks      0\n",
       "Forgetfulness                  0\n",
       "Diagnosis                      0\n",
       "DoctorInCharge                 0\n",
       "dtype: int64"
      ]
     },
     "execution_count": 62,
     "metadata": {},
     "output_type": "execute_result"
    }
   ],
   "source": [
    "class1 = df[df['Diagnosis'] == 1]['DiastolicBP'].mean()\n",
    "class0 = df[df['Diagnosis'] == 0]['DiastolicBP'].mean()\n",
    "\n",
    "for x in df.index:\n",
    "    if df.loc[x,\"Diagnosis\"]==1 and pd.isnull(df.loc[x,\"DiastolicBP\"])==True:\n",
    "        df.loc[x,\"DiastolicBP\"]=class1\n",
    "    elif df.loc[x,\"Diagnosis\"]==0 and pd.isnull(df.loc[x,\"DiastolicBP\"])==True:\n",
    "         df.loc[x,\"DiastolicBP\"]=class0\n",
    "df.isnull().sum()"
   ]
  },
  {
   "cell_type": "code",
   "execution_count": 63,
   "metadata": {
    "colab": {
     "base_uri": "https://localhost:8080/",
     "height": 1000
    },
    "collapsed": true,
    "id": "ge6Hh6Zhwz7D",
    "outputId": "d3e9022e-a408-4670-a0db-94e2e35c4cf1"
   },
   "outputs": [
    {
     "data": {
      "text/plain": [
       "Age                            0\n",
       "Gender                         0\n",
       "Ethnicity                      0\n",
       "EducationLevel                 0\n",
       "BMI                            0\n",
       "Smoking                        0\n",
       "AlcoholConsumption             0\n",
       "PhysicalActivity               0\n",
       "DietQuality                    0\n",
       "SleepQuality                   0\n",
       "FamilyHistoryAlzheimers        0\n",
       "CardiovascularDisease          0\n",
       "Diabetes                       0\n",
       "Depression                     0\n",
       "HeadInjury                     0\n",
       "Hypertension                   0\n",
       "SystolicBP                     0\n",
       "DiastolicBP                    0\n",
       "CholesterolTotal               0\n",
       "CholesterolLDL               220\n",
       "CholesterolHDL               222\n",
       "CholesterolTriglycerides     221\n",
       "MMSE                         218\n",
       "FunctionalAssessment         222\n",
       "MemoryComplaints               0\n",
       "BehavioralProblems             0\n",
       "ADL                          221\n",
       "Confusion                      0\n",
       "Disorientation                 0\n",
       "PersonalityChanges             0\n",
       "DifficultyCompletingTasks      0\n",
       "Forgetfulness                  0\n",
       "Diagnosis                      0\n",
       "DoctorInCharge                 0\n",
       "dtype: int64"
      ]
     },
     "execution_count": 63,
     "metadata": {},
     "output_type": "execute_result"
    }
   ],
   "source": [
    "class1 = df[df['Diagnosis'] == 1]['CholesterolTotal'].mean()\n",
    "class0 = df[df['Diagnosis'] == 0]['CholesterolTotal'].mean()\n",
    "\n",
    "for x in df.index:\n",
    "    if df.loc[x,\"Diagnosis\"]==1 and pd.isnull(df.loc[x,\"CholesterolTotal\"])==True:\n",
    "        df.loc[x,\"CholesterolTotal\"]=class1\n",
    "    elif df.loc[x,\"Diagnosis\"]==0 and pd.isnull(df.loc[x,\"CholesterolTotal\"])==True:\n",
    "         df.loc[x,\"CholesterolTotal\"]=class0\n",
    "df.isnull().sum()"
   ]
  },
  {
   "cell_type": "code",
   "execution_count": 64,
   "metadata": {
    "colab": {
     "base_uri": "https://localhost:8080/",
     "height": 1000
    },
    "collapsed": true,
    "id": "GquQw0-gzj0N",
    "outputId": "b2fd28cc-d93e-4461-a497-1b0a893953c7"
   },
   "outputs": [
    {
     "data": {
      "text/plain": [
       "Age                            0\n",
       "Gender                         0\n",
       "Ethnicity                      0\n",
       "EducationLevel                 0\n",
       "BMI                            0\n",
       "Smoking                        0\n",
       "AlcoholConsumption             0\n",
       "PhysicalActivity               0\n",
       "DietQuality                    0\n",
       "SleepQuality                   0\n",
       "FamilyHistoryAlzheimers        0\n",
       "CardiovascularDisease          0\n",
       "Diabetes                       0\n",
       "Depression                     0\n",
       "HeadInjury                     0\n",
       "Hypertension                   0\n",
       "SystolicBP                     0\n",
       "DiastolicBP                    0\n",
       "CholesterolTotal               0\n",
       "CholesterolLDL                 0\n",
       "CholesterolHDL               222\n",
       "CholesterolTriglycerides     221\n",
       "MMSE                         218\n",
       "FunctionalAssessment         222\n",
       "MemoryComplaints               0\n",
       "BehavioralProblems             0\n",
       "ADL                          221\n",
       "Confusion                      0\n",
       "Disorientation                 0\n",
       "PersonalityChanges             0\n",
       "DifficultyCompletingTasks      0\n",
       "Forgetfulness                  0\n",
       "Diagnosis                      0\n",
       "DoctorInCharge                 0\n",
       "dtype: int64"
      ]
     },
     "execution_count": 64,
     "metadata": {},
     "output_type": "execute_result"
    }
   ],
   "source": [
    "class1 = df[df['Diagnosis'] == 1]['CholesterolLDL'].mean()\n",
    "class0 = df[df['Diagnosis'] == 0]['CholesterolLDL'].mean()\n",
    "\n",
    "for x in df.index:\n",
    "    if df.loc[x,\"Diagnosis\"]==1 and pd.isnull(df.loc[x,\"CholesterolLDL\"])==True:\n",
    "        df.loc[x,\"CholesterolLDL\"]=class1\n",
    "    elif df.loc[x,\"Diagnosis\"]==0 and pd.isnull(df.loc[x,\"CholesterolLDL\"])==True:\n",
    "         df.loc[x,\"CholesterolLDL\"]=class0\n",
    "df.isnull().sum()"
   ]
  },
  {
   "cell_type": "code",
   "execution_count": 65,
   "metadata": {
    "colab": {
     "base_uri": "https://localhost:8080/",
     "height": 1000
    },
    "collapsed": true,
    "id": "ePuNAm6DzxLr",
    "outputId": "0227c756-d40a-46db-b5a7-d6e02866553f"
   },
   "outputs": [
    {
     "data": {
      "text/plain": [
       "Age                            0\n",
       "Gender                         0\n",
       "Ethnicity                      0\n",
       "EducationLevel                 0\n",
       "BMI                            0\n",
       "Smoking                        0\n",
       "AlcoholConsumption             0\n",
       "PhysicalActivity               0\n",
       "DietQuality                    0\n",
       "SleepQuality                   0\n",
       "FamilyHistoryAlzheimers        0\n",
       "CardiovascularDisease          0\n",
       "Diabetes                       0\n",
       "Depression                     0\n",
       "HeadInjury                     0\n",
       "Hypertension                   0\n",
       "SystolicBP                     0\n",
       "DiastolicBP                    0\n",
       "CholesterolTotal               0\n",
       "CholesterolLDL                 0\n",
       "CholesterolHDL                 0\n",
       "CholesterolTriglycerides     221\n",
       "MMSE                         218\n",
       "FunctionalAssessment         222\n",
       "MemoryComplaints               0\n",
       "BehavioralProblems             0\n",
       "ADL                          221\n",
       "Confusion                      0\n",
       "Disorientation                 0\n",
       "PersonalityChanges             0\n",
       "DifficultyCompletingTasks      0\n",
       "Forgetfulness                  0\n",
       "Diagnosis                      0\n",
       "DoctorInCharge                 0\n",
       "dtype: int64"
      ]
     },
     "execution_count": 65,
     "metadata": {},
     "output_type": "execute_result"
    }
   ],
   "source": [
    "class1 = df[df['Diagnosis'] == 1]['CholesterolHDL'].mean()\n",
    "class0 = df[df['Diagnosis'] == 0]['CholesterolHDL'].mean()\n",
    "\n",
    "for x in df.index:\n",
    "    if df.loc[x,\"Diagnosis\"]==1 and pd.isnull(df.loc[x,\"CholesterolHDL\"])==True:\n",
    "        df.loc[x,\"CholesterolHDL\"]=class1\n",
    "    elif df.loc[x,\"Diagnosis\"]==0 and pd.isnull(df.loc[x,\"CholesterolHDL\"])==True:\n",
    "         df.loc[x,\"CholesterolHDL\"]=class0\n",
    "df.isnull().sum()"
   ]
  },
  {
   "cell_type": "code",
   "execution_count": 66,
   "metadata": {
    "colab": {
     "base_uri": "https://localhost:8080/",
     "height": 1000
    },
    "collapsed": true,
    "id": "R9oeuIzgz5kK",
    "outputId": "b26d7e87-f45b-465a-9b01-8276790408a0"
   },
   "outputs": [
    {
     "data": {
      "text/plain": [
       "Age                            0\n",
       "Gender                         0\n",
       "Ethnicity                      0\n",
       "EducationLevel                 0\n",
       "BMI                            0\n",
       "Smoking                        0\n",
       "AlcoholConsumption             0\n",
       "PhysicalActivity               0\n",
       "DietQuality                    0\n",
       "SleepQuality                   0\n",
       "FamilyHistoryAlzheimers        0\n",
       "CardiovascularDisease          0\n",
       "Diabetes                       0\n",
       "Depression                     0\n",
       "HeadInjury                     0\n",
       "Hypertension                   0\n",
       "SystolicBP                     0\n",
       "DiastolicBP                    0\n",
       "CholesterolTotal               0\n",
       "CholesterolLDL                 0\n",
       "CholesterolHDL                 0\n",
       "CholesterolTriglycerides       0\n",
       "MMSE                         218\n",
       "FunctionalAssessment         222\n",
       "MemoryComplaints               0\n",
       "BehavioralProblems             0\n",
       "ADL                          221\n",
       "Confusion                      0\n",
       "Disorientation                 0\n",
       "PersonalityChanges             0\n",
       "DifficultyCompletingTasks      0\n",
       "Forgetfulness                  0\n",
       "Diagnosis                      0\n",
       "DoctorInCharge                 0\n",
       "dtype: int64"
      ]
     },
     "execution_count": 66,
     "metadata": {},
     "output_type": "execute_result"
    }
   ],
   "source": [
    "class1 = df[df['Diagnosis'] == 1]['CholesterolTriglycerides'].mean()\n",
    "class0 = df[df['Diagnosis'] == 0]['CholesterolTriglycerides'].mean()\n",
    "\n",
    "for x in df.index:\n",
    "    if df.loc[x,\"Diagnosis\"]==1 and pd.isnull(df.loc[x,\"CholesterolTriglycerides\"])==True:\n",
    "        df.loc[x,\"CholesterolTriglycerides\"]=class1\n",
    "    elif df.loc[x,\"Diagnosis\"]==0 and pd.isnull(df.loc[x,\"CholesterolTriglycerides\"])==True:\n",
    "         df.loc[x,\"CholesterolTriglycerides\"]=class0\n",
    "df.isnull().sum()"
   ]
  },
  {
   "cell_type": "code",
   "execution_count": 67,
   "metadata": {
    "colab": {
     "base_uri": "https://localhost:8080/",
     "height": 1000
    },
    "collapsed": true,
    "id": "kS8hhKnG0EzM",
    "outputId": "2f4390a3-8f1e-4c7f-a18c-445793ae5cb9"
   },
   "outputs": [
    {
     "data": {
      "text/plain": [
       "Age                            0\n",
       "Gender                         0\n",
       "Ethnicity                      0\n",
       "EducationLevel                 0\n",
       "BMI                            0\n",
       "Smoking                        0\n",
       "AlcoholConsumption             0\n",
       "PhysicalActivity               0\n",
       "DietQuality                    0\n",
       "SleepQuality                   0\n",
       "FamilyHistoryAlzheimers        0\n",
       "CardiovascularDisease          0\n",
       "Diabetes                       0\n",
       "Depression                     0\n",
       "HeadInjury                     0\n",
       "Hypertension                   0\n",
       "SystolicBP                     0\n",
       "DiastolicBP                    0\n",
       "CholesterolTotal               0\n",
       "CholesterolLDL                 0\n",
       "CholesterolHDL                 0\n",
       "CholesterolTriglycerides       0\n",
       "MMSE                           0\n",
       "FunctionalAssessment         222\n",
       "MemoryComplaints               0\n",
       "BehavioralProblems             0\n",
       "ADL                          221\n",
       "Confusion                      0\n",
       "Disorientation                 0\n",
       "PersonalityChanges             0\n",
       "DifficultyCompletingTasks      0\n",
       "Forgetfulness                  0\n",
       "Diagnosis                      0\n",
       "DoctorInCharge                 0\n",
       "dtype: int64"
      ]
     },
     "execution_count": 67,
     "metadata": {},
     "output_type": "execute_result"
    }
   ],
   "source": [
    "class1 = df[df['Diagnosis'] == 1]['MMSE'].mean()\n",
    "class0 = df[df['Diagnosis'] == 0]['MMSE'].mean()\n",
    "\n",
    "for x in df.index:\n",
    "    if df.loc[x,\"Diagnosis\"]==1 and pd.isnull(df.loc[x,\"MMSE\"])==True:\n",
    "        df.loc[x,\"MMSE\"]=class1\n",
    "    elif df.loc[x,\"Diagnosis\"]==0 and pd.isnull(df.loc[x,\"MMSE\"])==True:\n",
    "         df.loc[x,\"MMSE\"]=class0\n",
    "df.isnull().sum()"
   ]
  },
  {
   "cell_type": "code",
   "execution_count": 68,
   "metadata": {
    "colab": {
     "base_uri": "https://localhost:8080/",
     "height": 1000
    },
    "collapsed": true,
    "id": "6q3u3gqg0OQ2",
    "outputId": "57d46bfb-9503-4b0b-95eb-6251aa114a34"
   },
   "outputs": [
    {
     "data": {
      "text/plain": [
       "Age                            0\n",
       "Gender                         0\n",
       "Ethnicity                      0\n",
       "EducationLevel                 0\n",
       "BMI                            0\n",
       "Smoking                        0\n",
       "AlcoholConsumption             0\n",
       "PhysicalActivity               0\n",
       "DietQuality                    0\n",
       "SleepQuality                   0\n",
       "FamilyHistoryAlzheimers        0\n",
       "CardiovascularDisease          0\n",
       "Diabetes                       0\n",
       "Depression                     0\n",
       "HeadInjury                     0\n",
       "Hypertension                   0\n",
       "SystolicBP                     0\n",
       "DiastolicBP                    0\n",
       "CholesterolTotal               0\n",
       "CholesterolLDL                 0\n",
       "CholesterolHDL                 0\n",
       "CholesterolTriglycerides       0\n",
       "MMSE                           0\n",
       "FunctionalAssessment           0\n",
       "MemoryComplaints               0\n",
       "BehavioralProblems             0\n",
       "ADL                          221\n",
       "Confusion                      0\n",
       "Disorientation                 0\n",
       "PersonalityChanges             0\n",
       "DifficultyCompletingTasks      0\n",
       "Forgetfulness                  0\n",
       "Diagnosis                      0\n",
       "DoctorInCharge                 0\n",
       "dtype: int64"
      ]
     },
     "execution_count": 68,
     "metadata": {},
     "output_type": "execute_result"
    }
   ],
   "source": [
    "class1 = df[df['Diagnosis'] == 1]['FunctionalAssessment'].mean()\n",
    "class0 = df[df['Diagnosis'] == 0]['FunctionalAssessment'].mean()\n",
    "\n",
    "for x in df.index:\n",
    "    if df.loc[x,\"Diagnosis\"]==1 and pd.isnull(df.loc[x,\"FunctionalAssessment\"])==True:\n",
    "        df.loc[x,\"FunctionalAssessment\"]=class1\n",
    "    elif df.loc[x,\"Diagnosis\"]==0 and pd.isnull(df.loc[x,\"FunctionalAssessment\"])==True:\n",
    "         df.loc[x,\"FunctionalAssessment\"]=class0\n",
    "df.isnull().sum()"
   ]
  },
  {
   "cell_type": "code",
   "execution_count": 69,
   "metadata": {
    "colab": {
     "base_uri": "https://localhost:8080/",
     "height": 1000
    },
    "id": "rP7A4oVC0ZkZ",
    "outputId": "72f091a2-deae-42ba-fa3a-61c256645579"
   },
   "outputs": [
    {
     "data": {
      "text/plain": [
       "Age                          0\n",
       "Gender                       0\n",
       "Ethnicity                    0\n",
       "EducationLevel               0\n",
       "BMI                          0\n",
       "Smoking                      0\n",
       "AlcoholConsumption           0\n",
       "PhysicalActivity             0\n",
       "DietQuality                  0\n",
       "SleepQuality                 0\n",
       "FamilyHistoryAlzheimers      0\n",
       "CardiovascularDisease        0\n",
       "Diabetes                     0\n",
       "Depression                   0\n",
       "HeadInjury                   0\n",
       "Hypertension                 0\n",
       "SystolicBP                   0\n",
       "DiastolicBP                  0\n",
       "CholesterolTotal             0\n",
       "CholesterolLDL               0\n",
       "CholesterolHDL               0\n",
       "CholesterolTriglycerides     0\n",
       "MMSE                         0\n",
       "FunctionalAssessment         0\n",
       "MemoryComplaints             0\n",
       "BehavioralProblems           0\n",
       "ADL                          0\n",
       "Confusion                    0\n",
       "Disorientation               0\n",
       "PersonalityChanges           0\n",
       "DifficultyCompletingTasks    0\n",
       "Forgetfulness                0\n",
       "Diagnosis                    0\n",
       "DoctorInCharge               0\n",
       "dtype: int64"
      ]
     },
     "execution_count": 69,
     "metadata": {},
     "output_type": "execute_result"
    }
   ],
   "source": [
    "class1 = df[df['Diagnosis'] == 1]['ADL'].mean()\n",
    "class0 = df[df['Diagnosis'] == 0]['ADL'].mean()\n",
    "\n",
    "for x in df.index:\n",
    "    if df.loc[x,\"Diagnosis\"]==1 and pd.isnull(df.loc[x,\"ADL\"])==True:\n",
    "        df.loc[x,\"ADL\"]=class1\n",
    "    elif df.loc[x,\"Diagnosis\"]==0 and pd.isnull(df.loc[x,\"ADL\"])==True:\n",
    "         df.loc[x,\"ADL\"]=class0\n",
    "df.isnull().sum()"
   ]
  },
  {
   "cell_type": "markdown",
   "metadata": {
    "id": "nCVqh7T2kR_v"
   },
   "source": []
  },
  {
   "cell_type": "code",
   "execution_count": 70,
   "metadata": {},
   "outputs": [
    {
     "data": {
      "text/html": [
       "<div>\n",
       "<style scoped>\n",
       "    .dataframe tbody tr th:only-of-type {\n",
       "        vertical-align: middle;\n",
       "    }\n",
       "\n",
       "    .dataframe tbody tr th {\n",
       "        vertical-align: top;\n",
       "    }\n",
       "\n",
       "    .dataframe thead th {\n",
       "        text-align: right;\n",
       "    }\n",
       "</style>\n",
       "<table border=\"1\" class=\"dataframe\">\n",
       "  <thead>\n",
       "    <tr style=\"text-align: right;\">\n",
       "      <th></th>\n",
       "      <th>Age</th>\n",
       "      <th>Gender</th>\n",
       "      <th>Ethnicity</th>\n",
       "      <th>EducationLevel</th>\n",
       "      <th>BMI</th>\n",
       "      <th>Smoking</th>\n",
       "      <th>AlcoholConsumption</th>\n",
       "      <th>PhysicalActivity</th>\n",
       "      <th>DietQuality</th>\n",
       "      <th>SleepQuality</th>\n",
       "      <th>...</th>\n",
       "      <th>MemoryComplaints</th>\n",
       "      <th>BehavioralProblems</th>\n",
       "      <th>ADL</th>\n",
       "      <th>Confusion</th>\n",
       "      <th>Disorientation</th>\n",
       "      <th>PersonalityChanges</th>\n",
       "      <th>DifficultyCompletingTasks</th>\n",
       "      <th>Forgetfulness</th>\n",
       "      <th>Diagnosis</th>\n",
       "      <th>DoctorInCharge</th>\n",
       "    </tr>\n",
       "  </thead>\n",
       "  <tbody>\n",
       "    <tr>\n",
       "      <th>0</th>\n",
       "      <td>75.0</td>\n",
       "      <td>0.0</td>\n",
       "      <td>0.0</td>\n",
       "      <td>2.0</td>\n",
       "      <td>22.927749</td>\n",
       "      <td>0.0</td>\n",
       "      <td>13.297218</td>\n",
       "      <td>6.327112</td>\n",
       "      <td>1.347214</td>\n",
       "      <td>9.025679</td>\n",
       "      <td>...</td>\n",
       "      <td>0.0</td>\n",
       "      <td>0.0</td>\n",
       "      <td>1.725883</td>\n",
       "      <td>0.0</td>\n",
       "      <td>0.0</td>\n",
       "      <td>0.0</td>\n",
       "      <td>1.0</td>\n",
       "      <td>0.0</td>\n",
       "      <td>1.0</td>\n",
       "      <td>XXXCONFID</td>\n",
       "    </tr>\n",
       "    <tr>\n",
       "      <th>1</th>\n",
       "      <td>89.0</td>\n",
       "      <td>0.0</td>\n",
       "      <td>0.0</td>\n",
       "      <td>0.0</td>\n",
       "      <td>26.827681</td>\n",
       "      <td>0.0</td>\n",
       "      <td>4.542524</td>\n",
       "      <td>7.619885</td>\n",
       "      <td>0.518767</td>\n",
       "      <td>7.103023</td>\n",
       "      <td>...</td>\n",
       "      <td>0.0</td>\n",
       "      <td>0.0</td>\n",
       "      <td>2.592424</td>\n",
       "      <td>0.0</td>\n",
       "      <td>0.0</td>\n",
       "      <td>0.0</td>\n",
       "      <td>0.0</td>\n",
       "      <td>1.0</td>\n",
       "      <td>0.0</td>\n",
       "      <td>XlXCONFID</td>\n",
       "    </tr>\n",
       "    <tr>\n",
       "      <th>2</th>\n",
       "      <td>73.0</td>\n",
       "      <td>0.0</td>\n",
       "      <td>3.0</td>\n",
       "      <td>1.0</td>\n",
       "      <td>17.795882</td>\n",
       "      <td>0.0</td>\n",
       "      <td>19.555085</td>\n",
       "      <td>4.855976</td>\n",
       "      <td>1.826335</td>\n",
       "      <td>9.673574</td>\n",
       "      <td>...</td>\n",
       "      <td>0.0</td>\n",
       "      <td>0.0</td>\n",
       "      <td>7.119548</td>\n",
       "      <td>0.0</td>\n",
       "      <td>1.0</td>\n",
       "      <td>0.0</td>\n",
       "      <td>1.0</td>\n",
       "      <td>0.0</td>\n",
       "      <td>0.0</td>\n",
       "      <td>xxxconfid</td>\n",
       "    </tr>\n",
       "    <tr>\n",
       "      <th>3</th>\n",
       "      <td>75.0</td>\n",
       "      <td>1.0</td>\n",
       "      <td>0.0</td>\n",
       "      <td>1.0</td>\n",
       "      <td>33.800817</td>\n",
       "      <td>1.0</td>\n",
       "      <td>12.209266</td>\n",
       "      <td>8.428001</td>\n",
       "      <td>7.435604</td>\n",
       "      <td>8.392554</td>\n",
       "      <td>...</td>\n",
       "      <td>0.0</td>\n",
       "      <td>0.0</td>\n",
       "      <td>6.481226</td>\n",
       "      <td>0.0</td>\n",
       "      <td>0.0</td>\n",
       "      <td>0.0</td>\n",
       "      <td>0.0</td>\n",
       "      <td>0.0</td>\n",
       "      <td>1.0</td>\n",
       "      <td>xxxconfid</td>\n",
       "    </tr>\n",
       "    <tr>\n",
       "      <th>4</th>\n",
       "      <td>89.0</td>\n",
       "      <td>0.0</td>\n",
       "      <td>0.0</td>\n",
       "      <td>0.0</td>\n",
       "      <td>20.716974</td>\n",
       "      <td>0.0</td>\n",
       "      <td>18.454356</td>\n",
       "      <td>6.310461</td>\n",
       "      <td>0.795498</td>\n",
       "      <td>5.597238</td>\n",
       "      <td>...</td>\n",
       "      <td>0.0</td>\n",
       "      <td>0.0</td>\n",
       "      <td>0.014691</td>\n",
       "      <td>0.0</td>\n",
       "      <td>0.0</td>\n",
       "      <td>1.0</td>\n",
       "      <td>1.0</td>\n",
       "      <td>0.0</td>\n",
       "      <td>0.0</td>\n",
       "      <td>XXXCONFID</td>\n",
       "    </tr>\n",
       "  </tbody>\n",
       "</table>\n",
       "<p>5 rows × 34 columns</p>\n",
       "</div>"
      ],
      "text/plain": [
       "    Age  Gender  Ethnicity  EducationLevel        BMI  Smoking  \\\n",
       "0  75.0     0.0        0.0             2.0  22.927749      0.0   \n",
       "1  89.0     0.0        0.0             0.0  26.827681      0.0   \n",
       "2  73.0     0.0        3.0             1.0  17.795882      0.0   \n",
       "3  75.0     1.0        0.0             1.0  33.800817      1.0   \n",
       "4  89.0     0.0        0.0             0.0  20.716974      0.0   \n",
       "\n",
       "   AlcoholConsumption  PhysicalActivity  DietQuality  SleepQuality  ...  \\\n",
       "0           13.297218          6.327112     1.347214      9.025679  ...   \n",
       "1            4.542524          7.619885     0.518767      7.103023  ...   \n",
       "2           19.555085          4.855976     1.826335      9.673574  ...   \n",
       "3           12.209266          8.428001     7.435604      8.392554  ...   \n",
       "4           18.454356          6.310461     0.795498      5.597238  ...   \n",
       "\n",
       "   MemoryComplaints  BehavioralProblems       ADL  Confusion  Disorientation  \\\n",
       "0               0.0                 0.0  1.725883        0.0             0.0   \n",
       "1               0.0                 0.0  2.592424        0.0             0.0   \n",
       "2               0.0                 0.0  7.119548        0.0             1.0   \n",
       "3               0.0                 0.0  6.481226        0.0             0.0   \n",
       "4               0.0                 0.0  0.014691        0.0             0.0   \n",
       "\n",
       "   PersonalityChanges  DifficultyCompletingTasks  Forgetfulness  Diagnosis  \\\n",
       "0                 0.0                        1.0            0.0        1.0   \n",
       "1                 0.0                        0.0            1.0        0.0   \n",
       "2                 0.0                        1.0            0.0        0.0   \n",
       "3                 0.0                        0.0            0.0        1.0   \n",
       "4                 1.0                        1.0            0.0        0.0   \n",
       "\n",
       "   DoctorInCharge  \n",
       "0       XXXCONFID  \n",
       "1       XlXCONFID  \n",
       "2       xxxconfid  \n",
       "3       xxxconfid  \n",
       "4       XXXCONFID  \n",
       "\n",
       "[5 rows x 34 columns]"
      ]
     },
     "execution_count": 70,
     "metadata": {},
     "output_type": "execute_result"
    }
   ],
   "source": [
    "df.head()"
   ]
  },
  {
   "cell_type": "code",
   "execution_count": 73,
   "metadata": {},
   "outputs": [
    {
     "data": {
      "image/png": "[encoded data removed]",
      "text/plain": [
       "<Figure size 1200x800 with 2 Axes>"
      ]
     },
     "metadata": {},
     "output_type": "display_data"
    }
   ],
   "source": [
    "df_numeric = df.select_dtypes(include=['float', 'int'])\n",
    "\n",
    "# Calculate the correlation matrix\n",
    "correlation_matrix = df_numeric.corr()\n",
    "\n",
    "# Plot the heatmap\n",
    "plt.figure(figsize=(12, 8))  # Set figure size\n",
    "sns.heatmap(correlation_matrix, annot=True, cmap='coolwarm', fmt='.2f', vmin=-1, vmax=1)\n",
    "plt.title('Correlation Heatmap of Numerical Columns')\n",
    "plt.show()"
   ]
  },
  {
   "cell_type": "code",
   "execution_count": null,
   "metadata": {},
   "outputs": [],
   "source": [
    "!pip install dataprep\n"
   ]
  },
  {
   "cell_type": "code",
   "execution_count": null,
   "metadata": {},
   "outputs": [],
   "source": [
    "create_report(df).save()"
   ]
  },
  {
   "cell_type": "code",
   "execution_count": null,
   "metadata": {},
   "outputs": [],
   "source": [
    "df.info()"
   ]
  },
  {
   "cell_type": "code",
   "execution_count": null,
   "metadata": {},
   "outputs": [],
   "source": []
  }
 ],
 "metadata": {
  "colab": {
   "provenance": []
  },
  "kernelspec": {
   "display_name": "Python 3",
   "name": "python3"
  },
  "language_info": {
   "codemirror_mode": {
    "name": "ipython",
    "version": 3
   },
   "file_extension": ".py",
   "mimetype": "text/x-python",
   "name": "python",
   "nbconvert_exporter": "python",
   "pygments_lexer": "ipython3",
   "version": "3.10.6"
  }
 },
 "nbformat": 4,
 "nbformat_minor": 0
}
